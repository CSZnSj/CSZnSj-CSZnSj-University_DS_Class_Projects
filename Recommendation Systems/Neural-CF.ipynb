{
 "cells": [
  {
   "cell_type": "code",
   "execution_count": 1,
   "id": "076f55f5",
   "metadata": {
    "_cell_guid": "b1076dfc-b9ad-4769-8c92-a6c4dae69d19",
    "_uuid": "8f2839f25d086af736a60e9eeb907d3b93b6e0e5",
    "execution": {
     "iopub.execute_input": "2024-01-27T19:04:47.200082Z",
     "iopub.status.busy": "2024-01-27T19:04:47.199679Z",
     "iopub.status.idle": "2024-01-27T19:04:48.427547Z",
     "shell.execute_reply": "2024-01-27T19:04:48.426293Z"
    },
    "papermill": {
     "duration": 1.236455,
     "end_time": "2024-01-27T19:04:48.429750",
     "exception": false,
     "start_time": "2024-01-27T19:04:47.193295",
     "status": "completed"
    },
    "tags": []
   },
   "outputs": [
    {
     "name": "stdout",
     "output_type": "stream",
     "text": [
      "/kaggle/input/amazon-ratings/ratings_Beauty.csv\n"
     ]
    }
   ],
   "source": [
    "# This Python 3 environment comes with many helpful analytics libraries installed\n",
    "# It is defined by the kaggle/python Docker image: https://github.com/kaggle/docker-python\n",
    "# For example, here's several helpful packages to load\n",
    "\n",
    "import numpy as np # linear algebra\n",
    "import pandas as pd # data processing, CSV file I/O (e.g. pd.read_csv)\n",
    "\n",
    "# Input data files are available in the read-only \"../input/\" directory\n",
    "# For example, running this (by clicking run or pressing Shift+Enter) will list all files under the input directory\n",
    "\n",
    "import os\n",
    "for dirname, _, filenames in os.walk('/kaggle/input'):\n",
    "    for filename in filenames:\n",
    "        print(os.path.join(dirname, filename))\n",
    "\n",
    "# You can write up to 20GB to the current directory (/kaggle/working/) that gets preserved as output when you create a version using \"Save & Run All\" \n",
    "# You can also write temporary files to /kaggle/temp/, but they won't be saved outside of the current session"
   ]
  },
  {
   "cell_type": "code",
   "execution_count": 2,
   "id": "79e7d7e0",
   "metadata": {
    "execution": {
     "iopub.execute_input": "2024-01-27T19:04:48.440851Z",
     "iopub.status.busy": "2024-01-27T19:04:48.440241Z",
     "iopub.status.idle": "2024-01-27T19:04:56.008176Z",
     "shell.execute_reply": "2024-01-27T19:04:56.007207Z"
    },
    "papermill": {
     "duration": 7.575536,
     "end_time": "2024-01-27T19:04:56.010473",
     "exception": false,
     "start_time": "2024-01-27T19:04:48.434937",
     "status": "completed"
    },
    "tags": []
   },
   "outputs": [
    {
     "name": "stderr",
     "output_type": "stream",
     "text": [
      "/opt/conda/lib/python3.10/site-packages/scipy/__init__.py:146: UserWarning: A NumPy version >=1.16.5 and <1.23.0 is required for this version of SciPy (detected version 1.24.3\n",
      "  warnings.warn(f\"A NumPy version >={np_minversion} and <{np_maxversion}\"\n"
     ]
    }
   ],
   "source": [
    "import numpy as np\n",
    "import pandas as pd\n",
    "import matplotlib.pyplot as plt\n",
    "from sklearn.model_selection import train_test_split\n",
    "\n",
    "import torch\n",
    "import torch.nn as nn\n",
    "import torch.optim as optim\n",
    "from torch.utils.data import DataLoader, TensorDataset\n",
    "from tqdm import tqdm"
   ]
  },
  {
   "cell_type": "code",
   "execution_count": 3,
   "id": "9eedda45",
   "metadata": {
    "execution": {
     "iopub.execute_input": "2024-01-27T19:04:56.021096Z",
     "iopub.status.busy": "2024-01-27T19:04:56.020689Z",
     "iopub.status.idle": "2024-01-27T19:04:58.986493Z",
     "shell.execute_reply": "2024-01-27T19:04:58.985535Z"
    },
    "papermill": {
     "duration": 2.973303,
     "end_time": "2024-01-27T19:04:58.988545",
     "exception": false,
     "start_time": "2024-01-27T19:04:56.015242",
     "status": "completed"
    },
    "tags": []
   },
   "outputs": [
    {
     "data": {
      "text/plain": [
       "(2023070, 4)"
      ]
     },
     "execution_count": 3,
     "metadata": {},
     "output_type": "execute_result"
    }
   ],
   "source": [
    "df = pd.read_csv(\"/kaggle/input/amazon-ratings/ratings_Beauty.csv\")\n",
    "df.shape"
   ]
  },
  {
   "cell_type": "code",
   "execution_count": 4,
   "id": "cbdb490b",
   "metadata": {
    "execution": {
     "iopub.execute_input": "2024-01-27T19:04:58.999020Z",
     "iopub.status.busy": "2024-01-27T19:04:58.998713Z",
     "iopub.status.idle": "2024-01-27T19:05:03.355523Z",
     "shell.execute_reply": "2024-01-27T19:05:03.354641Z"
    },
    "papermill": {
     "duration": 4.36469,
     "end_time": "2024-01-27T19:05:03.358062",
     "exception": false,
     "start_time": "2024-01-27T19:04:58.993372",
     "status": "completed"
    },
    "tags": []
   },
   "outputs": [],
   "source": [
    "df['UserId'] = df['UserId'].astype('category')\n",
    "df['ProductId'] = df['ProductId'].astype('category')\n",
    "\n",
    "df['UserId'] = df['UserId'].cat.codes\n",
    "df['ProductId'] = df['ProductId'].cat.codes\n",
    "\n",
    "num_users = df['UserId'].nunique()\n",
    "num_items = df['ProductId'].nunique()"
   ]
  },
  {
   "cell_type": "code",
   "execution_count": 5,
   "id": "ba1bcb68",
   "metadata": {
    "execution": {
     "iopub.execute_input": "2024-01-27T19:05:03.369429Z",
     "iopub.status.busy": "2024-01-27T19:05:03.368946Z",
     "iopub.status.idle": "2024-01-27T19:05:03.529789Z",
     "shell.execute_reply": "2024-01-27T19:05:03.528814Z"
    },
    "papermill": {
     "duration": 0.168913,
     "end_time": "2024-01-27T19:05:03.532188",
     "exception": false,
     "start_time": "2024-01-27T19:05:03.363275",
     "status": "completed"
    },
    "tags": []
   },
   "outputs": [],
   "source": [
    "train_df, test_df = train_test_split(df, test_size=0.2)"
   ]
  },
  {
   "cell_type": "code",
   "execution_count": 6,
   "id": "aa157dbe",
   "metadata": {
    "execution": {
     "iopub.execute_input": "2024-01-27T19:05:03.543755Z",
     "iopub.status.busy": "2024-01-27T19:05:03.543467Z",
     "iopub.status.idle": "2024-01-27T19:05:03.549743Z",
     "shell.execute_reply": "2024-01-27T19:05:03.548928Z"
    },
    "papermill": {
     "duration": 0.013571,
     "end_time": "2024-01-27T19:05:03.551657",
     "exception": false,
     "start_time": "2024-01-27T19:05:03.538086",
     "status": "completed"
    },
    "tags": []
   },
   "outputs": [],
   "source": [
    "class CollaborativeFiltering(nn.Module):\n",
    "    def __init__(self, num_users, num_items, embedding_size=64):\n",
    "        super(CollaborativeFiltering, self).__init__()\n",
    "        self.user_embeddings = nn.Embedding(num_users, embedding_size)\n",
    "        self.item_embeddings = nn.Embedding(num_items, embedding_size)\n",
    "\n",
    "    def forward(self, user, item):\n",
    "        user_embedding = self.user_embeddings(user)\n",
    "        item_embedding = self.item_embeddings(item)\n",
    "        score = torch.bmm(user_embedding.unsqueeze(1), item_embedding.unsqueeze(2)).squeeze() # result : 1*64 ** 64**1 for each batch_size\n",
    "        return score"
   ]
  },
  {
   "cell_type": "code",
   "execution_count": 7,
   "id": "64878b9a",
   "metadata": {
    "execution": {
     "iopub.execute_input": "2024-01-27T19:05:03.562093Z",
     "iopub.status.busy": "2024-01-27T19:05:03.561562Z",
     "iopub.status.idle": "2024-01-27T19:05:04.833863Z",
     "shell.execute_reply": "2024-01-27T19:05:04.833096Z"
    },
    "papermill": {
     "duration": 1.280067,
     "end_time": "2024-01-27T19:05:04.836190",
     "exception": false,
     "start_time": "2024-01-27T19:05:03.556123",
     "status": "completed"
    },
    "tags": []
   },
   "outputs": [
    {
     "name": "stdout",
     "output_type": "stream",
     "text": [
      "cuda\n"
     ]
    }
   ],
   "source": [
    "device = torch.device(\"cuda\" if torch.cuda.is_available() else \"cpu\")\n",
    "print(device)\n",
    "\n",
    "model = CollaborativeFiltering(num_users, num_items).to(device)\n",
    "\n",
    "criterion = nn.MSELoss()\n",
    "optimizer = optim.Adam(model.parameters())"
   ]
  },
  {
   "cell_type": "code",
   "execution_count": 8,
   "id": "231d09b4",
   "metadata": {
    "execution": {
     "iopub.execute_input": "2024-01-27T19:05:04.846758Z",
     "iopub.status.busy": "2024-01-27T19:05:04.846465Z",
     "iopub.status.idle": "2024-01-27T19:05:04.871573Z",
     "shell.execute_reply": "2024-01-27T19:05:04.870895Z"
    },
    "papermill": {
     "duration": 0.032629,
     "end_time": "2024-01-27T19:05:04.873577",
     "exception": false,
     "start_time": "2024-01-27T19:05:04.840948",
     "status": "completed"
    },
    "tags": []
   },
   "outputs": [],
   "source": [
    "batch_size = 32\n",
    "\n",
    "train_users = torch.LongTensor(train_df['UserId'].values)\n",
    "train_items = torch.LongTensor(train_df['ProductId'].values)\n",
    "train_ratings = torch.FloatTensor(train_df['Rating'].values)\n",
    "\n",
    "test_users = torch.LongTensor(test_df['UserId'].values).to(device)\n",
    "test_items = torch.LongTensor(test_df['ProductId'].values).to(device)\n",
    "test_ratings = torch.FloatTensor(test_df['Rating'].values).to(device)\n",
    "\n",
    "train_dataset = TensorDataset(train_users, train_items, train_ratings)\n",
    "train_loader = DataLoader(train_dataset, batch_size=batch_size, shuffle=True)"
   ]
  },
  {
   "cell_type": "code",
   "execution_count": 9,
   "id": "1efb455b",
   "metadata": {
    "execution": {
     "iopub.execute_input": "2024-01-27T19:05:04.883904Z",
     "iopub.status.busy": "2024-01-27T19:05:04.883432Z",
     "iopub.status.idle": "2024-01-28T02:22:37.028519Z",
     "shell.execute_reply": "2024-01-28T02:22:37.027530Z"
    },
    "papermill": {
     "duration": 26252.161136,
     "end_time": "2024-01-28T02:22:37.039275",
     "exception": false,
     "start_time": "2024-01-27T19:05:04.878139",
     "status": "completed"
    },
    "tags": []
   },
   "outputs": [
    {
     "name": "stderr",
     "output_type": "stream",
     "text": [
      "  7%|▋         | 1/15 [29:10<6:48:23, 1750.23s/it]"
     ]
    },
    {
     "name": "stdout",
     "output_type": "stream",
     "text": [
      "Epoch 1 MSE Loss: 76.53632240477181\n",
      "Test MSE Loss: 71.40094757080078\n"
     ]
    },
    {
     "name": "stderr",
     "output_type": "stream",
     "text": [
      " 13%|█▎        | 2/15 [58:33<6:20:52, 1757.89s/it]"
     ]
    },
    {
     "name": "stdout",
     "output_type": "stream",
     "text": [
      "Epoch 2 MSE Loss: 40.95103639760334\n",
      "Test MSE Loss: 66.9437255859375\n"
     ]
    },
    {
     "name": "stderr",
     "output_type": "stream",
     "text": [
      " 20%|██        | 3/15 [1:27:57<5:52:06, 1760.50s/it]"
     ]
    },
    {
     "name": "stdout",
     "output_type": "stream",
     "text": [
      "Epoch 3 MSE Loss: 22.60410848552369\n",
      "Test MSE Loss: 65.53408813476562\n"
     ]
    },
    {
     "name": "stderr",
     "output_type": "stream",
     "text": [
      " 27%|██▋       | 4/15 [1:57:20<5:22:56, 1761.54s/it]"
     ]
    },
    {
     "name": "stdout",
     "output_type": "stream",
     "text": [
      "Epoch 4 MSE Loss: 12.797441052749875\n",
      "Test MSE Loss: 65.34053802490234\n"
     ]
    },
    {
     "name": "stderr",
     "output_type": "stream",
     "text": [
      " 33%|███▎      | 5/15 [2:26:44<4:53:44, 1762.44s/it]"
     ]
    },
    {
     "name": "stdout",
     "output_type": "stream",
     "text": [
      "Epoch 5 MSE Loss: 7.553579787935352\n",
      "Test MSE Loss: 65.43719482421875\n"
     ]
    },
    {
     "name": "stderr",
     "output_type": "stream",
     "text": [
      " 40%|████      | 6/15 [2:56:07<4:24:25, 1762.84s/it]"
     ]
    },
    {
     "name": "stdout",
     "output_type": "stream",
     "text": [
      "Epoch 6 MSE Loss: 4.824991311950517\n",
      "Test MSE Loss: 65.48780059814453\n"
     ]
    },
    {
     "name": "stderr",
     "output_type": "stream",
     "text": [
      " 47%|████▋     | 7/15 [3:25:31<3:55:03, 1762.97s/it]"
     ]
    },
    {
     "name": "stdout",
     "output_type": "stream",
     "text": [
      "Epoch 7 MSE Loss: 3.4539550991672296\n",
      "Test MSE Loss: 65.36870574951172\n"
     ]
    },
    {
     "name": "stderr",
     "output_type": "stream",
     "text": [
      " 53%|█████▎    | 8/15 [3:54:53<3:25:40, 1762.93s/it]"
     ]
    },
    {
     "name": "stdout",
     "output_type": "stream",
     "text": [
      "Epoch 8 MSE Loss: 2.7726167599923466\n",
      "Test MSE Loss: 65.1078872680664\n"
     ]
    },
    {
     "name": "stderr",
     "output_type": "stream",
     "text": [
      " 60%|██████    | 9/15 [4:24:02<2:55:50, 1758.34s/it]"
     ]
    },
    {
     "name": "stdout",
     "output_type": "stream",
     "text": [
      "Epoch 9 MSE Loss: 2.440092732121842\n",
      "Test MSE Loss: 64.75260162353516\n"
     ]
    },
    {
     "name": "stderr",
     "output_type": "stream",
     "text": [
      " 67%|██████▋   | 10/15 [4:52:56<2:25:54, 1750.88s/it]"
     ]
    },
    {
     "name": "stdout",
     "output_type": "stream",
     "text": [
      "Epoch 10 MSE Loss: 2.2658133679683408\n",
      "Test MSE Loss: 64.30743408203125\n"
     ]
    },
    {
     "name": "stderr",
     "output_type": "stream",
     "text": [
      " 73%|███████▎  | 11/15 [5:21:51<1:56:24, 1746.01s/it]"
     ]
    },
    {
     "name": "stdout",
     "output_type": "stream",
     "text": [
      "Epoch 11 MSE Loss: 2.175674700660633\n",
      "Test MSE Loss: 63.875465393066406\n"
     ]
    },
    {
     "name": "stderr",
     "output_type": "stream",
     "text": [
      " 80%|████████  | 12/15 [5:50:48<1:27:09, 1743.21s/it]"
     ]
    },
    {
     "name": "stdout",
     "output_type": "stream",
     "text": [
      "Epoch 12 MSE Loss: 2.115840631295493\n",
      "Test MSE Loss: 63.38216781616211\n"
     ]
    },
    {
     "name": "stderr",
     "output_type": "stream",
     "text": [
      " 87%|████████▋ | 13/15 [6:19:42<58:01, 1740.56s/it]  "
     ]
    },
    {
     "name": "stdout",
     "output_type": "stream",
     "text": [
      "Epoch 13 MSE Loss: 2.079161570981358\n",
      "Test MSE Loss: 62.92597961425781\n"
     ]
    },
    {
     "name": "stderr",
     "output_type": "stream",
     "text": [
      " 93%|█████████▎| 14/15 [6:48:37<28:58, 1738.82s/it]"
     ]
    },
    {
     "name": "stdout",
     "output_type": "stream",
     "text": [
      "Epoch 14 MSE Loss: 2.0501423119287168\n",
      "Test MSE Loss: 62.46090316772461\n"
     ]
    },
    {
     "name": "stderr",
     "output_type": "stream",
     "text": [
      "100%|██████████| 15/15 [7:17:32<00:00, 1750.14s/it]"
     ]
    },
    {
     "name": "stdout",
     "output_type": "stream",
     "text": [
      "Epoch 15 MSE Loss: 2.030732111157096\n",
      "Test MSE Loss: 61.9972038269043\n"
     ]
    },
    {
     "name": "stderr",
     "output_type": "stream",
     "text": [
      "\n"
     ]
    }
   ],
   "source": [
    "num_epochs = 15\n",
    "train_losses = []\n",
    "test_losses = []\n",
    "\n",
    "for epoch in tqdm(range(num_epochs)):\n",
    "    epoch_loss = 0\n",
    "\n",
    "    model.train()\n",
    "    for batch in train_loader:\n",
    "        user, item, rating = [x.to(device) for x in batch]\n",
    "        pred = model(user, item).squeeze()\n",
    "        loss = criterion(pred, rating)\n",
    "        optimizer.zero_grad()\n",
    "        loss.backward()\n",
    "        optimizer.step()\n",
    "        \n",
    "        epoch_loss += loss.item()\n",
    "        \n",
    "    train_losses.append(epoch_loss/len(train_loader))\n",
    "    print(f\"Epoch {epoch+1} MSE Loss: {train_losses[-1]}\")\n",
    "\n",
    "    model.eval() \n",
    "    with torch.no_grad():\n",
    "        pred_test_ratings = model(test_users, test_items)\n",
    "        test_loss = criterion(pred_test_ratings, test_ratings)\n",
    "        \n",
    "    test_losses.append(test_loss.item())\n",
    "    print(f'Test MSE Loss: {test_losses[-1]}')"
   ]
  },
  {
   "cell_type": "code",
   "execution_count": 10,
   "id": "39b00fd1",
   "metadata": {
    "execution": {
     "iopub.execute_input": "2024-01-28T02:22:37.055520Z",
     "iopub.status.busy": "2024-01-28T02:22:37.054763Z",
     "iopub.status.idle": "2024-01-28T02:22:37.452963Z",
     "shell.execute_reply": "2024-01-28T02:22:37.451905Z"
    },
    "papermill": {
     "duration": 0.408759,
     "end_time": "2024-01-28T02:22:37.455293",
     "exception": false,
     "start_time": "2024-01-28T02:22:37.046534",
     "status": "completed"
    },
    "tags": []
   },
   "outputs": [
    {
     "data": {
      "image/png": "[encoded data removed]",
      "text/plain": [
       "<Figure size 640x480 with 1 Axes>"
      ]
     },
     "metadata": {},
     "output_type": "display_data"
    }
   ],
   "source": [
    "plt.plot(range(num_epochs), train_losses, label='Train MSE')\n",
    "plt.plot(range(num_epochs), test_losses, label='Test MSE')\n",
    "plt.xlabel('Epoch')\n",
    "plt.ylabel('MSE Loss')\n",
    "plt.title('Training and Test MSE Losses over Epochs')\n",
    "plt.legend()\n",
    "plt.show();"
   ]
  },
  {
   "cell_type": "code",
   "execution_count": 11,
   "id": "4a6cb37b",
   "metadata": {
    "execution": {
     "iopub.execute_input": "2024-01-28T02:22:37.473325Z",
     "iopub.status.busy": "2024-01-28T02:22:37.472999Z",
     "iopub.status.idle": "2024-01-28T02:22:38.215873Z",
     "shell.execute_reply": "2024-01-28T02:22:38.214931Z"
    },
    "papermill": {
     "duration": 0.754223,
     "end_time": "2024-01-28T02:22:38.217941",
     "exception": false,
     "start_time": "2024-01-28T02:22:37.463718",
     "status": "completed"
    },
    "tags": []
   },
   "outputs": [],
   "source": [
    "torch.save(model.state_dict(), 'model.pth')"
   ]
  },
  {
   "cell_type": "code",
   "execution_count": 12,
   "id": "13a14fd4",
   "metadata": {
    "execution": {
     "iopub.execute_input": "2024-01-28T02:22:38.235160Z",
     "iopub.status.busy": "2024-01-28T02:22:38.234831Z",
     "iopub.status.idle": "2024-01-28T02:22:38.240631Z",
     "shell.execute_reply": "2024-01-28T02:22:38.239871Z"
    },
    "papermill": {
     "duration": 0.016304,
     "end_time": "2024-01-28T02:22:38.242388",
     "exception": false,
     "start_time": "2024-01-28T02:22:38.226084",
     "status": "completed"
    },
    "tags": []
   },
   "outputs": [],
   "source": [
    "def get_recommendations(user_id, num_recommendations=10):\n",
    "\n",
    "    item_tensor = torch.LongTensor(np.arange(num_items))\n",
    "    user_tensor = torch.full_like(item_tensor, user_id)\n",
    "    \n",
    "    with torch.no_grad():\n",
    "        pred_ratings = model(user_tensor, item_tensor).numpy()\n",
    "    \n",
    "    top_items = np.argsort(-pred_ratings)[:num_recommendations]\n",
    "    \n",
    "    return top_items"
   ]
  },
  {
   "cell_type": "code",
   "execution_count": 13,
   "id": "cbfc7684",
   "metadata": {
    "execution": {
     "iopub.execute_input": "2024-01-28T02:22:38.258830Z",
     "iopub.status.busy": "2024-01-28T02:22:38.258553Z",
     "iopub.status.idle": "2024-01-28T02:22:39.660226Z",
     "shell.execute_reply": "2024-01-28T02:22:39.658407Z"
    },
    "papermill": {
     "duration": 1.412068,
     "end_time": "2024-01-28T02:22:39.662223",
     "exception": true,
     "start_time": "2024-01-28T02:22:38.250155",
     "status": "failed"
    },
    "tags": []
   },
   "outputs": [
    {
     "ename": "RuntimeError",
     "evalue": "Expected all tensors to be on the same device, but found at least two devices, cuda:0 and cpu! (when checking argument for argument index in method wrapper_CUDA__index_select)",
     "output_type": "error",
     "traceback": [
      "\u001b[0;31m---------------------------------------------------------------------------\u001b[0m",
      "\u001b[0;31mRuntimeError\u001b[0m                              Traceback (most recent call last)",
      "Cell \u001b[0;32mIn[13], line 1\u001b[0m\n\u001b[0;32m----> 1\u001b[0m top_items \u001b[38;5;241m=\u001b[39m \u001b[43mget_recommendations\u001b[49m\u001b[43m(\u001b[49m\u001b[38;5;241;43m0\u001b[39;49m\u001b[43m)\u001b[49m\n\u001b[1;32m      2\u001b[0m \u001b[38;5;28mprint\u001b[39m(\u001b[38;5;124m\"\u001b[39m\u001b[38;5;124mTop 10 recommended items for user 0:\u001b[39m\u001b[38;5;124m\"\u001b[39m, top_items)\n",
      "Cell \u001b[0;32mIn[12], line 7\u001b[0m, in \u001b[0;36mget_recommendations\u001b[0;34m(user_id, num_recommendations)\u001b[0m\n\u001b[1;32m      4\u001b[0m user_tensor \u001b[38;5;241m=\u001b[39m torch\u001b[38;5;241m.\u001b[39mfull_like(item_tensor, user_id)\n\u001b[1;32m      6\u001b[0m \u001b[38;5;28;01mwith\u001b[39;00m torch\u001b[38;5;241m.\u001b[39mno_grad():\n\u001b[0;32m----> 7\u001b[0m     pred_ratings \u001b[38;5;241m=\u001b[39m \u001b[43mmodel\u001b[49m\u001b[43m(\u001b[49m\u001b[43muser_tensor\u001b[49m\u001b[43m,\u001b[49m\u001b[43m \u001b[49m\u001b[43mitem_tensor\u001b[49m\u001b[43m)\u001b[49m\u001b[38;5;241m.\u001b[39mnumpy()\n\u001b[1;32m      9\u001b[0m top_items \u001b[38;5;241m=\u001b[39m np\u001b[38;5;241m.\u001b[39margsort(\u001b[38;5;241m-\u001b[39mpred_ratings)[:num_recommendations]\n\u001b[1;32m     11\u001b[0m \u001b[38;5;28;01mreturn\u001b[39;00m top_items\n",
      "File \u001b[0;32m/opt/conda/lib/python3.10/site-packages/torch/nn/modules/module.py:1501\u001b[0m, in \u001b[0;36mModule._call_impl\u001b[0;34m(self, *args, **kwargs)\u001b[0m\n\u001b[1;32m   1496\u001b[0m \u001b[38;5;66;03m# If we don't have any hooks, we want to skip the rest of the logic in\u001b[39;00m\n\u001b[1;32m   1497\u001b[0m \u001b[38;5;66;03m# this function, and just call forward.\u001b[39;00m\n\u001b[1;32m   1498\u001b[0m \u001b[38;5;28;01mif\u001b[39;00m \u001b[38;5;129;01mnot\u001b[39;00m (\u001b[38;5;28mself\u001b[39m\u001b[38;5;241m.\u001b[39m_backward_hooks \u001b[38;5;129;01mor\u001b[39;00m \u001b[38;5;28mself\u001b[39m\u001b[38;5;241m.\u001b[39m_backward_pre_hooks \u001b[38;5;129;01mor\u001b[39;00m \u001b[38;5;28mself\u001b[39m\u001b[38;5;241m.\u001b[39m_forward_hooks \u001b[38;5;129;01mor\u001b[39;00m \u001b[38;5;28mself\u001b[39m\u001b[38;5;241m.\u001b[39m_forward_pre_hooks\n\u001b[1;32m   1499\u001b[0m         \u001b[38;5;129;01mor\u001b[39;00m _global_backward_pre_hooks \u001b[38;5;129;01mor\u001b[39;00m _global_backward_hooks\n\u001b[1;32m   1500\u001b[0m         \u001b[38;5;129;01mor\u001b[39;00m _global_forward_hooks \u001b[38;5;129;01mor\u001b[39;00m _global_forward_pre_hooks):\n\u001b[0;32m-> 1501\u001b[0m     \u001b[38;5;28;01mreturn\u001b[39;00m \u001b[43mforward_call\u001b[49m\u001b[43m(\u001b[49m\u001b[38;5;241;43m*\u001b[39;49m\u001b[43margs\u001b[49m\u001b[43m,\u001b[49m\u001b[43m \u001b[49m\u001b[38;5;241;43m*\u001b[39;49m\u001b[38;5;241;43m*\u001b[39;49m\u001b[43mkwargs\u001b[49m\u001b[43m)\u001b[49m\n\u001b[1;32m   1502\u001b[0m \u001b[38;5;66;03m# Do not call functions when jit is used\u001b[39;00m\n\u001b[1;32m   1503\u001b[0m full_backward_hooks, non_full_backward_hooks \u001b[38;5;241m=\u001b[39m [], []\n",
      "Cell \u001b[0;32mIn[6], line 8\u001b[0m, in \u001b[0;36mCollaborativeFiltering.forward\u001b[0;34m(self, user, item)\u001b[0m\n\u001b[1;32m      7\u001b[0m \u001b[38;5;28;01mdef\u001b[39;00m \u001b[38;5;21mforward\u001b[39m(\u001b[38;5;28mself\u001b[39m, user, item):\n\u001b[0;32m----> 8\u001b[0m     user_embedding \u001b[38;5;241m=\u001b[39m \u001b[38;5;28;43mself\u001b[39;49m\u001b[38;5;241;43m.\u001b[39;49m\u001b[43muser_embeddings\u001b[49m\u001b[43m(\u001b[49m\u001b[43muser\u001b[49m\u001b[43m)\u001b[49m\n\u001b[1;32m      9\u001b[0m     item_embedding \u001b[38;5;241m=\u001b[39m \u001b[38;5;28mself\u001b[39m\u001b[38;5;241m.\u001b[39mitem_embeddings(item)\n\u001b[1;32m     10\u001b[0m     score \u001b[38;5;241m=\u001b[39m torch\u001b[38;5;241m.\u001b[39mbmm(user_embedding\u001b[38;5;241m.\u001b[39munsqueeze(\u001b[38;5;241m1\u001b[39m), item_embedding\u001b[38;5;241m.\u001b[39munsqueeze(\u001b[38;5;241m2\u001b[39m))\u001b[38;5;241m.\u001b[39msqueeze() \u001b[38;5;66;03m# result : 1*64 ** 64**1 for each batch_size\u001b[39;00m\n",
      "File \u001b[0;32m/opt/conda/lib/python3.10/site-packages/torch/nn/modules/module.py:1501\u001b[0m, in \u001b[0;36mModule._call_impl\u001b[0;34m(self, *args, **kwargs)\u001b[0m\n\u001b[1;32m   1496\u001b[0m \u001b[38;5;66;03m# If we don't have any hooks, we want to skip the rest of the logic in\u001b[39;00m\n\u001b[1;32m   1497\u001b[0m \u001b[38;5;66;03m# this function, and just call forward.\u001b[39;00m\n\u001b[1;32m   1498\u001b[0m \u001b[38;5;28;01mif\u001b[39;00m \u001b[38;5;129;01mnot\u001b[39;00m (\u001b[38;5;28mself\u001b[39m\u001b[38;5;241m.\u001b[39m_backward_hooks \u001b[38;5;129;01mor\u001b[39;00m \u001b[38;5;28mself\u001b[39m\u001b[38;5;241m.\u001b[39m_backward_pre_hooks \u001b[38;5;129;01mor\u001b[39;00m \u001b[38;5;28mself\u001b[39m\u001b[38;5;241m.\u001b[39m_forward_hooks \u001b[38;5;129;01mor\u001b[39;00m \u001b[38;5;28mself\u001b[39m\u001b[38;5;241m.\u001b[39m_forward_pre_hooks\n\u001b[1;32m   1499\u001b[0m         \u001b[38;5;129;01mor\u001b[39;00m _global_backward_pre_hooks \u001b[38;5;129;01mor\u001b[39;00m _global_backward_hooks\n\u001b[1;32m   1500\u001b[0m         \u001b[38;5;129;01mor\u001b[39;00m _global_forward_hooks \u001b[38;5;129;01mor\u001b[39;00m _global_forward_pre_hooks):\n\u001b[0;32m-> 1501\u001b[0m     \u001b[38;5;28;01mreturn\u001b[39;00m \u001b[43mforward_call\u001b[49m\u001b[43m(\u001b[49m\u001b[38;5;241;43m*\u001b[39;49m\u001b[43margs\u001b[49m\u001b[43m,\u001b[49m\u001b[43m \u001b[49m\u001b[38;5;241;43m*\u001b[39;49m\u001b[38;5;241;43m*\u001b[39;49m\u001b[43mkwargs\u001b[49m\u001b[43m)\u001b[49m\n\u001b[1;32m   1502\u001b[0m \u001b[38;5;66;03m# Do not call functions when jit is used\u001b[39;00m\n\u001b[1;32m   1503\u001b[0m full_backward_hooks, non_full_backward_hooks \u001b[38;5;241m=\u001b[39m [], []\n",
      "File \u001b[0;32m/opt/conda/lib/python3.10/site-packages/torch/nn/modules/sparse.py:162\u001b[0m, in \u001b[0;36mEmbedding.forward\u001b[0;34m(self, input)\u001b[0m\n\u001b[1;32m    161\u001b[0m \u001b[38;5;28;01mdef\u001b[39;00m \u001b[38;5;21mforward\u001b[39m(\u001b[38;5;28mself\u001b[39m, \u001b[38;5;28minput\u001b[39m: Tensor) \u001b[38;5;241m-\u001b[39m\u001b[38;5;241m>\u001b[39m Tensor:\n\u001b[0;32m--> 162\u001b[0m     \u001b[38;5;28;01mreturn\u001b[39;00m \u001b[43mF\u001b[49m\u001b[38;5;241;43m.\u001b[39;49m\u001b[43membedding\u001b[49m\u001b[43m(\u001b[49m\n\u001b[1;32m    163\u001b[0m \u001b[43m        \u001b[49m\u001b[38;5;28;43minput\u001b[39;49m\u001b[43m,\u001b[49m\u001b[43m \u001b[49m\u001b[38;5;28;43mself\u001b[39;49m\u001b[38;5;241;43m.\u001b[39;49m\u001b[43mweight\u001b[49m\u001b[43m,\u001b[49m\u001b[43m \u001b[49m\u001b[38;5;28;43mself\u001b[39;49m\u001b[38;5;241;43m.\u001b[39;49m\u001b[43mpadding_idx\u001b[49m\u001b[43m,\u001b[49m\u001b[43m \u001b[49m\u001b[38;5;28;43mself\u001b[39;49m\u001b[38;5;241;43m.\u001b[39;49m\u001b[43mmax_norm\u001b[49m\u001b[43m,\u001b[49m\n\u001b[1;32m    164\u001b[0m \u001b[43m        \u001b[49m\u001b[38;5;28;43mself\u001b[39;49m\u001b[38;5;241;43m.\u001b[39;49m\u001b[43mnorm_type\u001b[49m\u001b[43m,\u001b[49m\u001b[43m \u001b[49m\u001b[38;5;28;43mself\u001b[39;49m\u001b[38;5;241;43m.\u001b[39;49m\u001b[43mscale_grad_by_freq\u001b[49m\u001b[43m,\u001b[49m\u001b[43m \u001b[49m\u001b[38;5;28;43mself\u001b[39;49m\u001b[38;5;241;43m.\u001b[39;49m\u001b[43msparse\u001b[49m\u001b[43m)\u001b[49m\n",
      "File \u001b[0;32m/opt/conda/lib/python3.10/site-packages/torch/nn/functional.py:2210\u001b[0m, in \u001b[0;36membedding\u001b[0;34m(input, weight, padding_idx, max_norm, norm_type, scale_grad_by_freq, sparse)\u001b[0m\n\u001b[1;32m   2204\u001b[0m     \u001b[38;5;66;03m# Note [embedding_renorm set_grad_enabled]\u001b[39;00m\n\u001b[1;32m   2205\u001b[0m     \u001b[38;5;66;03m# XXX: equivalent to\u001b[39;00m\n\u001b[1;32m   2206\u001b[0m     \u001b[38;5;66;03m# with torch.no_grad():\u001b[39;00m\n\u001b[1;32m   2207\u001b[0m     \u001b[38;5;66;03m#   torch.embedding_renorm_\u001b[39;00m\n\u001b[1;32m   2208\u001b[0m     \u001b[38;5;66;03m# remove once script supports set_grad_enabled\u001b[39;00m\n\u001b[1;32m   2209\u001b[0m     _no_grad_embedding_renorm_(weight, \u001b[38;5;28minput\u001b[39m, max_norm, norm_type)\n\u001b[0;32m-> 2210\u001b[0m \u001b[38;5;28;01mreturn\u001b[39;00m \u001b[43mtorch\u001b[49m\u001b[38;5;241;43m.\u001b[39;49m\u001b[43membedding\u001b[49m\u001b[43m(\u001b[49m\u001b[43mweight\u001b[49m\u001b[43m,\u001b[49m\u001b[43m \u001b[49m\u001b[38;5;28;43minput\u001b[39;49m\u001b[43m,\u001b[49m\u001b[43m \u001b[49m\u001b[43mpadding_idx\u001b[49m\u001b[43m,\u001b[49m\u001b[43m \u001b[49m\u001b[43mscale_grad_by_freq\u001b[49m\u001b[43m,\u001b[49m\u001b[43m \u001b[49m\u001b[43msparse\u001b[49m\u001b[43m)\u001b[49m\n",
      "\u001b[0;31mRuntimeError\u001b[0m: Expected all tensors to be on the same device, but found at least two devices, cuda:0 and cpu! (when checking argument for argument index in method wrapper_CUDA__index_select)"
     ]
    }
   ],
   "source": [
    "top_items = get_recommendations(0)\n",
    "print(\"Top 10 recommended items for user 0:\", top_items)"
   ]
  }
 ],
 "metadata": {
  "kaggle": {
   "accelerator": "nvidiaTeslaT4",
   "dataSources": [
    {
     "datasetId": 33019,
     "sourceId": 43260,
     "sourceType": "datasetVersion"
    }
   ],
   "dockerImageVersionId": 30636,
   "isGpuEnabled": true,
   "isInternetEnabled": true,
   "language": "python",
   "sourceType": "notebook"
  },
  "kernelspec": {
   "display_name": "Python 3",
   "language": "python",
   "name": "python3"
  },
  "language_info": {
   "codemirror_mode": {
    "name": "ipython",
    "version": 3
   },
   "file_extension": ".py",
   "mimetype": "text/x-python",
   "name": "python",
   "nbconvert_exporter": "python",
   "pygments_lexer": "ipython3",
   "version": "3.10.12"
  },
  "papermill": {
   "default_parameters": {},
   "duration": 26280.430161,
   "end_time": "2024-01-28T02:22:42.839319",
   "environment_variables": {},
   "exception": true,
   "input_path": "__notebook__.ipynb",
   "output_path": "__notebook__.ipynb",
   "parameters": {},
   "start_time": "2024-01-27T19:04:42.409158",
   "version": "2.4.0"
  }
 },
 "nbformat": 4,
 "nbformat_minor": 5
}

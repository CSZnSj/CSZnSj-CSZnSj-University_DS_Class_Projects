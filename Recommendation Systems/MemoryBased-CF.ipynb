{
 "cells": [
  {
   "cell_type": "code",
   "execution_count": 1,
   "id": "4970042a",
   "metadata": {
    "_cell_guid": "b1076dfc-b9ad-4769-8c92-a6c4dae69d19",
    "_uuid": "8f2839f25d086af736a60e9eeb907d3b93b6e0e5",
    "execution": {
     "iopub.execute_input": "2024-01-29T00:53:24.178994Z",
     "iopub.status.busy": "2024-01-29T00:53:24.178519Z",
     "iopub.status.idle": "2024-01-29T00:53:24.623942Z",
     "shell.execute_reply": "2024-01-29T00:53:24.623149Z"
    },
    "papermill": {
     "duration": 0.459518,
     "end_time": "2024-01-29T00:53:24.627249",
     "exception": false,
     "start_time": "2024-01-29T00:53:24.167731",
     "status": "completed"
    },
    "tags": []
   },
   "outputs": [
    {
     "name": "stdout",
     "output_type": "stream",
     "text": [
      "/kaggle/input/amazon-ratings/ratings_Beauty.csv\n"
     ]
    }
   ],
   "source": [
    "# This Python 3 environment comes with many helpful analytics libraries installed\n",
    "# It is defined by the kaggle/python Docker image: https://github.com/kaggle/docker-python\n",
    "# For example, here's several helpful packages to load\n",
    "\n",
    "import numpy as np # linear algebra\n",
    "import pandas as pd # data processing, CSV file I/O (e.g. pd.read_csv)\n",
    "\n",
    "# Input data files are available in the read-only \"../input/\" directory\n",
    "# For example, running this (by clicking run or pressing Shift+Enter) will list all files under the input directory\n",
    "\n",
    "import os\n",
    "for dirname, _, filenames in os.walk('/kaggle/input'):\n",
    "    for filename in filenames:\n",
    "        print(os.path.join(dirname, filename))\n",
    "\n",
    "# You can write up to 20GB to the current directory (/kaggle/working/) that gets preserved as output when you create a version using \"Save & Run All\" \n",
    "# You can also write temporary files to /kaggle/temp/, but they won't be saved outside of the current session"
   ]
  },
  {
   "cell_type": "code",
   "execution_count": 2,
   "id": "aee12846",
   "metadata": {
    "execution": {
     "iopub.execute_input": "2024-01-29T00:53:24.645334Z",
     "iopub.status.busy": "2024-01-29T00:53:24.644287Z",
     "iopub.status.idle": "2024-01-29T00:53:26.220213Z",
     "shell.execute_reply": "2024-01-29T00:53:26.218697Z"
    },
    "papermill": {
     "duration": 1.587955,
     "end_time": "2024-01-29T00:53:26.223403",
     "exception": false,
     "start_time": "2024-01-29T00:53:24.635448",
     "status": "completed"
    },
    "tags": []
   },
   "outputs": [],
   "source": [
    "from sklearn.model_selection import train_test_split\n",
    "from sklearn.neighbors import NearestNeighbors"
   ]
  },
  {
   "cell_type": "code",
   "execution_count": 3,
   "id": "7bcefe0e",
   "metadata": {
    "execution": {
     "iopub.execute_input": "2024-01-29T00:53:26.242167Z",
     "iopub.status.busy": "2024-01-29T00:53:26.241725Z",
     "iopub.status.idle": "2024-01-29T00:53:29.563566Z",
     "shell.execute_reply": "2024-01-29T00:53:29.562416Z"
    },
    "papermill": {
     "duration": 3.335035,
     "end_time": "2024-01-29T00:53:29.566745",
     "exception": false,
     "start_time": "2024-01-29T00:53:26.231710",
     "status": "completed"
    },
    "tags": []
   },
   "outputs": [
    {
     "data": {
      "text/html": [
       "<div>\n",
       "<style scoped>\n",
       "    .dataframe tbody tr th:only-of-type {\n",
       "        vertical-align: middle;\n",
       "    }\n",
       "\n",
       "    .dataframe tbody tr th {\n",
       "        vertical-align: top;\n",
       "    }\n",
       "\n",
       "    .dataframe thead th {\n",
       "        text-align: right;\n",
       "    }\n",
       "</style>\n",
       "<table border=\"1\" class=\"dataframe\">\n",
       "  <thead>\n",
       "    <tr style=\"text-align: right;\">\n",
       "      <th></th>\n",
       "      <th>UserId</th>\n",
       "      <th>ProductId</th>\n",
       "      <th>Rating</th>\n",
       "      <th>Timestamp</th>\n",
       "    </tr>\n",
       "  </thead>\n",
       "  <tbody>\n",
       "    <tr>\n",
       "      <th>0</th>\n",
       "      <td>A39HTATAQ9V7YF</td>\n",
       "      <td>0205616461</td>\n",
       "      <td>5.0</td>\n",
       "      <td>1369699200</td>\n",
       "    </tr>\n",
       "    <tr>\n",
       "      <th>1</th>\n",
       "      <td>A3JM6GV9MNOF9X</td>\n",
       "      <td>0558925278</td>\n",
       "      <td>3.0</td>\n",
       "      <td>1355443200</td>\n",
       "    </tr>\n",
       "    <tr>\n",
       "      <th>2</th>\n",
       "      <td>A1Z513UWSAAO0F</td>\n",
       "      <td>0558925278</td>\n",
       "      <td>5.0</td>\n",
       "      <td>1404691200</td>\n",
       "    </tr>\n",
       "    <tr>\n",
       "      <th>3</th>\n",
       "      <td>A1WMRR494NWEWV</td>\n",
       "      <td>0733001998</td>\n",
       "      <td>4.0</td>\n",
       "      <td>1382572800</td>\n",
       "    </tr>\n",
       "    <tr>\n",
       "      <th>4</th>\n",
       "      <td>A3IAAVS479H7M7</td>\n",
       "      <td>0737104473</td>\n",
       "      <td>1.0</td>\n",
       "      <td>1274227200</td>\n",
       "    </tr>\n",
       "  </tbody>\n",
       "</table>\n",
       "</div>"
      ],
      "text/plain": [
       "           UserId   ProductId  Rating   Timestamp\n",
       "0  A39HTATAQ9V7YF  0205616461     5.0  1369699200\n",
       "1  A3JM6GV9MNOF9X  0558925278     3.0  1355443200\n",
       "2  A1Z513UWSAAO0F  0558925278     5.0  1404691200\n",
       "3  A1WMRR494NWEWV  0733001998     4.0  1382572800\n",
       "4  A3IAAVS479H7M7  0737104473     1.0  1274227200"
      ]
     },
     "execution_count": 3,
     "metadata": {},
     "output_type": "execute_result"
    }
   ],
   "source": [
    "data = pd.read_csv(\"/kaggle/input/amazon-ratings/ratings_Beauty.csv\")\n",
    "data.head()"
   ]
  },
  {
   "cell_type": "code",
   "execution_count": 4,
   "id": "b7b0e2e3",
   "metadata": {
    "execution": {
     "iopub.execute_input": "2024-01-29T00:53:29.589582Z",
     "iopub.status.busy": "2024-01-29T00:53:29.588986Z",
     "iopub.status.idle": "2024-01-29T00:53:30.598341Z",
     "shell.execute_reply": "2024-01-29T00:53:30.597389Z"
    },
    "papermill": {
     "duration": 1.023739,
     "end_time": "2024-01-29T00:53:30.600974",
     "exception": false,
     "start_time": "2024-01-29T00:53:29.577235",
     "status": "completed"
    },
    "tags": []
   },
   "outputs": [],
   "source": [
    "train_df, test_df = train_test_split(data, train_size=0.8)"
   ]
  },
  {
   "cell_type": "code",
   "execution_count": 5,
   "id": "74395b1b",
   "metadata": {
    "execution": {
     "iopub.execute_input": "2024-01-29T00:53:30.619632Z",
     "iopub.status.busy": "2024-01-29T00:53:30.619161Z",
     "iopub.status.idle": "2024-01-29T00:53:30.953197Z",
     "shell.execute_reply": "2024-01-29T00:53:30.951892Z"
    },
    "papermill": {
     "duration": 0.347398,
     "end_time": "2024-01-29T00:53:30.956634",
     "exception": false,
     "start_time": "2024-01-29T00:53:30.609236",
     "status": "completed"
    },
    "tags": []
   },
   "outputs": [],
   "source": [
    "index_labels = train_df.index\n",
    "subset_index = np.random.choice(index_labels, size=10000, replace=False)\n",
    "train_subset = train_df.loc[subset_index]"
   ]
  },
  {
   "cell_type": "markdown",
   "id": "c16c2b26",
   "metadata": {
    "papermill": {
     "duration": 0.007971,
     "end_time": "2024-01-29T00:53:30.973125",
     "exception": false,
     "start_time": "2024-01-29T00:53:30.965154",
     "status": "completed"
    },
    "tags": []
   },
   "source": [
    "# **user-item-matrix**"
   ]
  },
  {
   "cell_type": "code",
   "execution_count": 6,
   "id": "22c3b9d3",
   "metadata": {
    "execution": {
     "iopub.execute_input": "2024-01-29T00:53:30.991965Z",
     "iopub.status.busy": "2024-01-29T00:53:30.991443Z",
     "iopub.status.idle": "2024-01-29T00:53:38.002811Z",
     "shell.execute_reply": "2024-01-29T00:53:38.001775Z"
    },
    "papermill": {
     "duration": 7.023711,
     "end_time": "2024-01-29T00:53:38.005172",
     "exception": false,
     "start_time": "2024-01-29T00:53:30.981461",
     "status": "completed"
    },
    "tags": []
   },
   "outputs": [
    {
     "data": {
      "text/html": [
       "<div>\n",
       "<style scoped>\n",
       "    .dataframe tbody tr th:only-of-type {\n",
       "        vertical-align: middle;\n",
       "    }\n",
       "\n",
       "    .dataframe tbody tr th {\n",
       "        vertical-align: top;\n",
       "    }\n",
       "\n",
       "    .dataframe thead th {\n",
       "        text-align: right;\n",
       "    }\n",
       "</style>\n",
       "<table border=\"1\" class=\"dataframe\">\n",
       "  <thead>\n",
       "    <tr style=\"text-align: right;\">\n",
       "      <th>ProductId</th>\n",
       "      <th>1304651088</th>\n",
       "      <th>5357955905</th>\n",
       "      <th>9575295714</th>\n",
       "      <th>9748776093</th>\n",
       "      <th>9788071538</th>\n",
       "      <th>9788071597</th>\n",
       "      <th>9788072216</th>\n",
       "      <th>9788073840</th>\n",
       "      <th>9790782594</th>\n",
       "      <th>9790786948</th>\n",
       "      <th>...</th>\n",
       "      <th>B00KHH2VOY</th>\n",
       "      <th>B00KIRR02G</th>\n",
       "      <th>B00KLZO2JE</th>\n",
       "      <th>B00KQ4PEBU</th>\n",
       "      <th>B00KTLBDYM</th>\n",
       "      <th>B00KWFDBKE</th>\n",
       "      <th>B00KXNYG9K</th>\n",
       "      <th>B00L1OKV1W</th>\n",
       "      <th>B00L2K53BS</th>\n",
       "      <th>B00L5JHZJO</th>\n",
       "    </tr>\n",
       "    <tr>\n",
       "      <th>UserId</th>\n",
       "      <th></th>\n",
       "      <th></th>\n",
       "      <th></th>\n",
       "      <th></th>\n",
       "      <th></th>\n",
       "      <th></th>\n",
       "      <th></th>\n",
       "      <th></th>\n",
       "      <th></th>\n",
       "      <th></th>\n",
       "      <th></th>\n",
       "      <th></th>\n",
       "      <th></th>\n",
       "      <th></th>\n",
       "      <th></th>\n",
       "      <th></th>\n",
       "      <th></th>\n",
       "      <th></th>\n",
       "      <th></th>\n",
       "      <th></th>\n",
       "      <th></th>\n",
       "    </tr>\n",
       "  </thead>\n",
       "  <tbody>\n",
       "    <tr>\n",
       "      <th>A01043533995GF77S33JK</th>\n",
       "      <td>0</td>\n",
       "      <td>0</td>\n",
       "      <td>0</td>\n",
       "      <td>0</td>\n",
       "      <td>0</td>\n",
       "      <td>0</td>\n",
       "      <td>0</td>\n",
       "      <td>0</td>\n",
       "      <td>0</td>\n",
       "      <td>0</td>\n",
       "      <td>...</td>\n",
       "      <td>0</td>\n",
       "      <td>0</td>\n",
       "      <td>0</td>\n",
       "      <td>0</td>\n",
       "      <td>0</td>\n",
       "      <td>0</td>\n",
       "      <td>0</td>\n",
       "      <td>0</td>\n",
       "      <td>0</td>\n",
       "      <td>0</td>\n",
       "    </tr>\n",
       "    <tr>\n",
       "      <th>A01884683H3F0505B7RAB</th>\n",
       "      <td>0</td>\n",
       "      <td>0</td>\n",
       "      <td>0</td>\n",
       "      <td>0</td>\n",
       "      <td>0</td>\n",
       "      <td>0</td>\n",
       "      <td>0</td>\n",
       "      <td>0</td>\n",
       "      <td>0</td>\n",
       "      <td>0</td>\n",
       "      <td>...</td>\n",
       "      <td>0</td>\n",
       "      <td>0</td>\n",
       "      <td>0</td>\n",
       "      <td>0</td>\n",
       "      <td>0</td>\n",
       "      <td>0</td>\n",
       "      <td>0</td>\n",
       "      <td>0</td>\n",
       "      <td>0</td>\n",
       "      <td>0</td>\n",
       "    </tr>\n",
       "    <tr>\n",
       "      <th>A02319972Z43K4PFMZIBM</th>\n",
       "      <td>0</td>\n",
       "      <td>0</td>\n",
       "      <td>0</td>\n",
       "      <td>0</td>\n",
       "      <td>0</td>\n",
       "      <td>0</td>\n",
       "      <td>0</td>\n",
       "      <td>0</td>\n",
       "      <td>0</td>\n",
       "      <td>0</td>\n",
       "      <td>...</td>\n",
       "      <td>0</td>\n",
       "      <td>0</td>\n",
       "      <td>0</td>\n",
       "      <td>0</td>\n",
       "      <td>0</td>\n",
       "      <td>0</td>\n",
       "      <td>0</td>\n",
       "      <td>0</td>\n",
       "      <td>0</td>\n",
       "      <td>0</td>\n",
       "    </tr>\n",
       "    <tr>\n",
       "      <th>A02734382TCW13I4YD1LE</th>\n",
       "      <td>0</td>\n",
       "      <td>0</td>\n",
       "      <td>0</td>\n",
       "      <td>0</td>\n",
       "      <td>0</td>\n",
       "      <td>0</td>\n",
       "      <td>0</td>\n",
       "      <td>0</td>\n",
       "      <td>0</td>\n",
       "      <td>0</td>\n",
       "      <td>...</td>\n",
       "      <td>0</td>\n",
       "      <td>0</td>\n",
       "      <td>0</td>\n",
       "      <td>0</td>\n",
       "      <td>0</td>\n",
       "      <td>0</td>\n",
       "      <td>0</td>\n",
       "      <td>0</td>\n",
       "      <td>0</td>\n",
       "      <td>0</td>\n",
       "    </tr>\n",
       "    <tr>\n",
       "      <th>A0351533X23EPP6SMRN6</th>\n",
       "      <td>0</td>\n",
       "      <td>0</td>\n",
       "      <td>0</td>\n",
       "      <td>0</td>\n",
       "      <td>0</td>\n",
       "      <td>0</td>\n",
       "      <td>0</td>\n",
       "      <td>0</td>\n",
       "      <td>0</td>\n",
       "      <td>0</td>\n",
       "      <td>...</td>\n",
       "      <td>0</td>\n",
       "      <td>0</td>\n",
       "      <td>0</td>\n",
       "      <td>0</td>\n",
       "      <td>0</td>\n",
       "      <td>0</td>\n",
       "      <td>0</td>\n",
       "      <td>0</td>\n",
       "      <td>0</td>\n",
       "      <td>0</td>\n",
       "    </tr>\n",
       "    <tr>\n",
       "      <th>...</th>\n",
       "      <td>...</td>\n",
       "      <td>...</td>\n",
       "      <td>...</td>\n",
       "      <td>...</td>\n",
       "      <td>...</td>\n",
       "      <td>...</td>\n",
       "      <td>...</td>\n",
       "      <td>...</td>\n",
       "      <td>...</td>\n",
       "      <td>...</td>\n",
       "      <td>...</td>\n",
       "      <td>...</td>\n",
       "      <td>...</td>\n",
       "      <td>...</td>\n",
       "      <td>...</td>\n",
       "      <td>...</td>\n",
       "      <td>...</td>\n",
       "      <td>...</td>\n",
       "      <td>...</td>\n",
       "      <td>...</td>\n",
       "      <td>...</td>\n",
       "    </tr>\n",
       "    <tr>\n",
       "      <th>AZYXKS6KJ0T0F</th>\n",
       "      <td>0</td>\n",
       "      <td>0</td>\n",
       "      <td>0</td>\n",
       "      <td>0</td>\n",
       "      <td>0</td>\n",
       "      <td>0</td>\n",
       "      <td>0</td>\n",
       "      <td>0</td>\n",
       "      <td>0</td>\n",
       "      <td>0</td>\n",
       "      <td>...</td>\n",
       "      <td>0</td>\n",
       "      <td>0</td>\n",
       "      <td>0</td>\n",
       "      <td>0</td>\n",
       "      <td>0</td>\n",
       "      <td>0</td>\n",
       "      <td>0</td>\n",
       "      <td>0</td>\n",
       "      <td>0</td>\n",
       "      <td>0</td>\n",
       "    </tr>\n",
       "    <tr>\n",
       "      <th>AZZ7SCDDZR0R3</th>\n",
       "      <td>0</td>\n",
       "      <td>0</td>\n",
       "      <td>0</td>\n",
       "      <td>0</td>\n",
       "      <td>0</td>\n",
       "      <td>0</td>\n",
       "      <td>0</td>\n",
       "      <td>0</td>\n",
       "      <td>0</td>\n",
       "      <td>0</td>\n",
       "      <td>...</td>\n",
       "      <td>0</td>\n",
       "      <td>0</td>\n",
       "      <td>0</td>\n",
       "      <td>0</td>\n",
       "      <td>0</td>\n",
       "      <td>0</td>\n",
       "      <td>0</td>\n",
       "      <td>0</td>\n",
       "      <td>0</td>\n",
       "      <td>0</td>\n",
       "    </tr>\n",
       "    <tr>\n",
       "      <th>AZZEK6JAYP3HX</th>\n",
       "      <td>0</td>\n",
       "      <td>0</td>\n",
       "      <td>0</td>\n",
       "      <td>0</td>\n",
       "      <td>0</td>\n",
       "      <td>0</td>\n",
       "      <td>0</td>\n",
       "      <td>0</td>\n",
       "      <td>0</td>\n",
       "      <td>0</td>\n",
       "      <td>...</td>\n",
       "      <td>0</td>\n",
       "      <td>0</td>\n",
       "      <td>0</td>\n",
       "      <td>0</td>\n",
       "      <td>0</td>\n",
       "      <td>0</td>\n",
       "      <td>0</td>\n",
       "      <td>0</td>\n",
       "      <td>0</td>\n",
       "      <td>0</td>\n",
       "    </tr>\n",
       "    <tr>\n",
       "      <th>AZZLR8HHKHBCZ</th>\n",
       "      <td>0</td>\n",
       "      <td>0</td>\n",
       "      <td>0</td>\n",
       "      <td>0</td>\n",
       "      <td>0</td>\n",
       "      <td>0</td>\n",
       "      <td>0</td>\n",
       "      <td>0</td>\n",
       "      <td>0</td>\n",
       "      <td>0</td>\n",
       "      <td>...</td>\n",
       "      <td>0</td>\n",
       "      <td>0</td>\n",
       "      <td>0</td>\n",
       "      <td>0</td>\n",
       "      <td>0</td>\n",
       "      <td>0</td>\n",
       "      <td>0</td>\n",
       "      <td>0</td>\n",
       "      <td>0</td>\n",
       "      <td>0</td>\n",
       "    </tr>\n",
       "    <tr>\n",
       "      <th>AZZQLMNX239VT</th>\n",
       "      <td>0</td>\n",
       "      <td>0</td>\n",
       "      <td>0</td>\n",
       "      <td>0</td>\n",
       "      <td>0</td>\n",
       "      <td>0</td>\n",
       "      <td>0</td>\n",
       "      <td>0</td>\n",
       "      <td>0</td>\n",
       "      <td>0</td>\n",
       "      <td>...</td>\n",
       "      <td>0</td>\n",
       "      <td>0</td>\n",
       "      <td>0</td>\n",
       "      <td>0</td>\n",
       "      <td>0</td>\n",
       "      <td>0</td>\n",
       "      <td>0</td>\n",
       "      <td>0</td>\n",
       "      <td>0</td>\n",
       "      <td>0</td>\n",
       "    </tr>\n",
       "  </tbody>\n",
       "</table>\n",
       "<p>9886 rows × 8150 columns</p>\n",
       "</div>"
      ],
      "text/plain": [
       "ProductId              1304651088  5357955905  9575295714  9748776093  \\\n",
       "UserId                                                                  \n",
       "A01043533995GF77S33JK           0           0           0           0   \n",
       "A01884683H3F0505B7RAB           0           0           0           0   \n",
       "A02319972Z43K4PFMZIBM           0           0           0           0   \n",
       "A02734382TCW13I4YD1LE           0           0           0           0   \n",
       "A0351533X23EPP6SMRN6            0           0           0           0   \n",
       "...                           ...         ...         ...         ...   \n",
       "AZYXKS6KJ0T0F                   0           0           0           0   \n",
       "AZZ7SCDDZR0R3                   0           0           0           0   \n",
       "AZZEK6JAYP3HX                   0           0           0           0   \n",
       "AZZLR8HHKHBCZ                   0           0           0           0   \n",
       "AZZQLMNX239VT                   0           0           0           0   \n",
       "\n",
       "ProductId              9788071538  9788071597  9788072216  9788073840  \\\n",
       "UserId                                                                  \n",
       "A01043533995GF77S33JK           0           0           0           0   \n",
       "A01884683H3F0505B7RAB           0           0           0           0   \n",
       "A02319972Z43K4PFMZIBM           0           0           0           0   \n",
       "A02734382TCW13I4YD1LE           0           0           0           0   \n",
       "A0351533X23EPP6SMRN6            0           0           0           0   \n",
       "...                           ...         ...         ...         ...   \n",
       "AZYXKS6KJ0T0F                   0           0           0           0   \n",
       "AZZ7SCDDZR0R3                   0           0           0           0   \n",
       "AZZEK6JAYP3HX                   0           0           0           0   \n",
       "AZZLR8HHKHBCZ                   0           0           0           0   \n",
       "AZZQLMNX239VT                   0           0           0           0   \n",
       "\n",
       "ProductId              9790782594  9790786948  ...  B00KHH2VOY  B00KIRR02G  \\\n",
       "UserId                                         ...                           \n",
       "A01043533995GF77S33JK           0           0  ...           0           0   \n",
       "A01884683H3F0505B7RAB           0           0  ...           0           0   \n",
       "A02319972Z43K4PFMZIBM           0           0  ...           0           0   \n",
       "A02734382TCW13I4YD1LE           0           0  ...           0           0   \n",
       "A0351533X23EPP6SMRN6            0           0  ...           0           0   \n",
       "...                           ...         ...  ...         ...         ...   \n",
       "AZYXKS6KJ0T0F                   0           0  ...           0           0   \n",
       "AZZ7SCDDZR0R3                   0           0  ...           0           0   \n",
       "AZZEK6JAYP3HX                   0           0  ...           0           0   \n",
       "AZZLR8HHKHBCZ                   0           0  ...           0           0   \n",
       "AZZQLMNX239VT                   0           0  ...           0           0   \n",
       "\n",
       "ProductId              B00KLZO2JE  B00KQ4PEBU  B00KTLBDYM  B00KWFDBKE  \\\n",
       "UserId                                                                  \n",
       "A01043533995GF77S33JK           0           0           0           0   \n",
       "A01884683H3F0505B7RAB           0           0           0           0   \n",
       "A02319972Z43K4PFMZIBM           0           0           0           0   \n",
       "A02734382TCW13I4YD1LE           0           0           0           0   \n",
       "A0351533X23EPP6SMRN6            0           0           0           0   \n",
       "...                           ...         ...         ...         ...   \n",
       "AZYXKS6KJ0T0F                   0           0           0           0   \n",
       "AZZ7SCDDZR0R3                   0           0           0           0   \n",
       "AZZEK6JAYP3HX                   0           0           0           0   \n",
       "AZZLR8HHKHBCZ                   0           0           0           0   \n",
       "AZZQLMNX239VT                   0           0           0           0   \n",
       "\n",
       "ProductId              B00KXNYG9K  B00L1OKV1W  B00L2K53BS  B00L5JHZJO  \n",
       "UserId                                                                 \n",
       "A01043533995GF77S33JK           0           0           0           0  \n",
       "A01884683H3F0505B7RAB           0           0           0           0  \n",
       "A02319972Z43K4PFMZIBM           0           0           0           0  \n",
       "A02734382TCW13I4YD1LE           0           0           0           0  \n",
       "A0351533X23EPP6SMRN6            0           0           0           0  \n",
       "...                           ...         ...         ...         ...  \n",
       "AZYXKS6KJ0T0F                   0           0           0           0  \n",
       "AZZ7SCDDZR0R3                   0           0           0           0  \n",
       "AZZEK6JAYP3HX                   0           0           0           0  \n",
       "AZZLR8HHKHBCZ                   0           0           0           0  \n",
       "AZZQLMNX239VT                   0           0           0           0  \n",
       "\n",
       "[9886 rows x 8150 columns]"
      ]
     },
     "execution_count": 6,
     "metadata": {},
     "output_type": "execute_result"
    }
   ],
   "source": [
    "user_item_matrix = train_subset.pivot_table(index='UserId', columns='ProductId', values='Rating', fill_value=0)\n",
    "user_item_matrix"
   ]
  },
  {
   "cell_type": "markdown",
   "id": "b720be4f",
   "metadata": {
    "execution": {
     "iopub.execute_input": "2024-01-28T13:17:43.009714Z",
     "iopub.status.busy": "2024-01-28T13:17:43.009305Z",
     "iopub.status.idle": "2024-01-28T13:17:43.014703Z",
     "shell.execute_reply": "2024-01-28T13:17:43.013473Z",
     "shell.execute_reply.started": "2024-01-28T13:17:43.009680Z"
    },
    "papermill": {
     "duration": 0.008563,
     "end_time": "2024-01-29T00:53:38.022628",
     "exception": false,
     "start_time": "2024-01-29T00:53:38.014065",
     "status": "completed"
    },
    "tags": []
   },
   "source": [
    "# **neighbor_finder**"
   ]
  },
  {
   "cell_type": "code",
   "execution_count": 7,
   "id": "4d468a4e",
   "metadata": {
    "execution": {
     "iopub.execute_input": "2024-01-29T00:53:38.043293Z",
     "iopub.status.busy": "2024-01-29T00:53:38.041753Z",
     "iopub.status.idle": "2024-01-29T00:53:38.047352Z",
     "shell.execute_reply": "2024-01-29T00:53:38.046562Z"
    },
    "papermill": {
     "duration": 0.018157,
     "end_time": "2024-01-29T00:53:38.049540",
     "exception": false,
     "start_time": "2024-01-29T00:53:38.031383",
     "status": "completed"
    },
    "tags": []
   },
   "outputs": [],
   "source": [
    "neighbor_finder = NearestNeighbors(metric='cosine', algorithm='brute', n_neighbors=10, n_jobs=-1)"
   ]
  },
  {
   "cell_type": "markdown",
   "id": "956ffeaa",
   "metadata": {
    "papermill": {
     "duration": 0.008682,
     "end_time": "2024-01-29T00:53:38.067619",
     "exception": false,
     "start_time": "2024-01-29T00:53:38.058937",
     "status": "completed"
    },
    "tags": []
   },
   "source": [
    "# **user-based**"
   ]
  },
  {
   "cell_type": "code",
   "execution_count": 8,
   "id": "8ac1d6e7",
   "metadata": {
    "execution": {
     "iopub.execute_input": "2024-01-29T00:53:38.088133Z",
     "iopub.status.busy": "2024-01-29T00:53:38.087435Z",
     "iopub.status.idle": "2024-01-29T00:53:40.506326Z",
     "shell.execute_reply": "2024-01-29T00:53:40.504203Z"
    },
    "papermill": {
     "duration": 2.434493,
     "end_time": "2024-01-29T00:53:40.511303",
     "exception": false,
     "start_time": "2024-01-29T00:53:38.076810",
     "status": "completed"
    },
    "tags": []
   },
   "outputs": [
    {
     "name": "stderr",
     "output_type": "stream",
     "text": [
      "/opt/conda/lib/python3.10/site-packages/sklearn/base.py:439: UserWarning: X does not have valid feature names, but NearestNeighbors was fitted with feature names\n",
      "  warnings.warn(\n"
     ]
    }
   ],
   "source": [
    "neighbor_finder.fit(user_item_matrix)\n",
    "\n",
    "user_id = np.random.choice(user_item_matrix.index)\n",
    "user_vector = user_item_matrix.loc[user_id].values.reshape(1, -1)\n",
    "\n",
    "distances, indices = neighbor_finder.kneighbors(user_vector, n_neighbors=5)\n",
    "distances, indices = distances.squeeze().tolist(), indices.squeeze().tolist()"
   ]
  },
  {
   "cell_type": "code",
   "execution_count": 9,
   "id": "3938bcc3",
   "metadata": {
    "execution": {
     "iopub.execute_input": "2024-01-29T00:53:40.552572Z",
     "iopub.status.busy": "2024-01-29T00:53:40.551769Z",
     "iopub.status.idle": "2024-01-29T00:53:40.626706Z",
     "shell.execute_reply": "2024-01-29T00:53:40.625373Z"
    },
    "papermill": {
     "duration": 0.099583,
     "end_time": "2024-01-29T00:53:40.630119",
     "exception": false,
     "start_time": "2024-01-29T00:53:40.530536",
     "status": "completed"
    },
    "tags": []
   },
   "outputs": [],
   "source": [
    "aggregated_ratings = {}\n",
    "# Aggregate ratings from similar users\n",
    "for i, distance in zip(indices, distances):\n",
    "    similar_user_id, similarity_score = user_item_matrix.index[i], 1 - distance\n",
    "    for item_id, rating in user_item_matrix.loc[similar_user_id].items():\n",
    "        if (rating != 0) and (user_item_matrix.loc[user_id][item_id] == 0):\n",
    "            aggregated_ratings.setdefault(item_id, []).append((rating, similarity_score))"
   ]
  },
  {
   "cell_type": "code",
   "execution_count": 10,
   "id": "2e87c7f5",
   "metadata": {
    "execution": {
     "iopub.execute_input": "2024-01-29T00:53:40.651259Z",
     "iopub.status.busy": "2024-01-29T00:53:40.650065Z",
     "iopub.status.idle": "2024-01-29T00:53:40.657157Z",
     "shell.execute_reply": "2024-01-29T00:53:40.656366Z"
    },
    "papermill": {
     "duration": 0.019896,
     "end_time": "2024-01-29T00:53:40.659376",
     "exception": false,
     "start_time": "2024-01-29T00:53:40.639480",
     "status": "completed"
    },
    "tags": []
   },
   "outputs": [],
   "source": [
    "predicted_ratings = {}\n",
    "# Compute weighted average of ratings from similar users\n",
    "for item_id, ratings in aggregated_ratings.items():\n",
    "    weighted_sum = sum(rating * similarity for rating, similarity in ratings)\n",
    "    sum_of_weights = sum(similarity for _, similarity in ratings)\n",
    "    predicted_ratings[item_id] = weighted_sum / sum_of_weights if sum_of_weights != 0 else 0"
   ]
  },
  {
   "cell_type": "code",
   "execution_count": 11,
   "id": "e8a742e6",
   "metadata": {
    "execution": {
     "iopub.execute_input": "2024-01-29T00:53:40.679205Z",
     "iopub.status.busy": "2024-01-29T00:53:40.678544Z",
     "iopub.status.idle": "2024-01-29T00:53:40.686397Z",
     "shell.execute_reply": "2024-01-29T00:53:40.685329Z"
    },
    "papermill": {
     "duration": 0.020609,
     "end_time": "2024-01-29T00:53:40.688866",
     "exception": false,
     "start_time": "2024-01-29T00:53:40.668257",
     "status": "completed"
    },
    "tags": []
   },
   "outputs": [
    {
     "data": {
      "text/plain": [
       "['B00DQUVXPW', 'B001V9LUZI', 'B002XHACJW']"
      ]
     },
     "execution_count": 11,
     "metadata": {},
     "output_type": "execute_result"
    }
   ],
   "source": [
    "N=3\n",
    "recommended_products = sorted(predicted_ratings, key=predicted_ratings.get, reverse=True)[:N]\n",
    "recommended_products"
   ]
  },
  {
   "cell_type": "markdown",
   "id": "26f9df9c",
   "metadata": {
    "papermill": {
     "duration": 0.008774,
     "end_time": "2024-01-29T00:53:40.706775",
     "exception": false,
     "start_time": "2024-01-29T00:53:40.698001",
     "status": "completed"
    },
    "tags": []
   },
   "source": [
    "# **item-based**"
   ]
  },
  {
   "cell_type": "markdown",
   "id": "6fdfad4e",
   "metadata": {
    "papermill": {
     "duration": 0.008596,
     "end_time": "2024-01-29T00:53:40.724354",
     "exception": false,
     "start_time": "2024-01-29T00:53:40.715758",
     "status": "completed"
    },
    "tags": []
   },
   "source": [
    "## method1"
   ]
  },
  {
   "cell_type": "code",
   "execution_count": 12,
   "id": "884d6669",
   "metadata": {
    "execution": {
     "iopub.execute_input": "2024-01-29T00:53:40.745590Z",
     "iopub.status.busy": "2024-01-29T00:53:40.744841Z",
     "iopub.status.idle": "2024-01-29T00:53:41.339347Z",
     "shell.execute_reply": "2024-01-29T00:53:41.337381Z"
    },
    "papermill": {
     "duration": 0.610128,
     "end_time": "2024-01-29T00:53:41.344133",
     "exception": false,
     "start_time": "2024-01-29T00:53:40.734005",
     "status": "completed"
    },
    "tags": []
   },
   "outputs": [
    {
     "name": "stderr",
     "output_type": "stream",
     "text": [
      "/opt/conda/lib/python3.10/site-packages/sklearn/base.py:439: UserWarning: X does not have valid feature names, but NearestNeighbors was fitted with feature names\n",
      "  warnings.warn(\n"
     ]
    }
   ],
   "source": [
    "neighbor_finder.fit(user_item_matrix.T)\n",
    "\n",
    "item_id = np.random.choice(user_item_matrix.columns)\n",
    "item_vector = user_item_matrix[item_id].values.reshape(1, -1)\n",
    "\n",
    "distances, indices = neighbor_finder.kneighbors(item_vector, n_neighbors=5)\n",
    "distances, indices = distances.squeeze().tolist(), indices.squeeze().tolist()"
   ]
  },
  {
   "cell_type": "code",
   "execution_count": 13,
   "id": "2e563dc6",
   "metadata": {
    "execution": {
     "iopub.execute_input": "2024-01-29T00:53:41.388055Z",
     "iopub.status.busy": "2024-01-29T00:53:41.385782Z",
     "iopub.status.idle": "2024-01-29T00:53:41.461633Z",
     "shell.execute_reply": "2024-01-29T00:53:41.460654Z"
    },
    "papermill": {
     "duration": 0.101054,
     "end_time": "2024-01-29T00:53:41.464753",
     "exception": false,
     "start_time": "2024-01-29T00:53:41.363699",
     "status": "completed"
    },
    "tags": []
   },
   "outputs": [],
   "source": [
    "aggregated_ratings = {}\n",
    "# Aggregate ratings from similar items\n",
    "for i, distance in zip(indices, distances):\n",
    "    similar_item_id, similarity_score = user_item_matrix.columns[i], 1 - distance\n",
    "    for user_id, rating in user_item_matrix[similar_item_id].items():\n",
    "        if (rating != 0) and (user_item_matrix.loc[user_id][item_id] == 0):\n",
    "            aggregated_ratings.setdefault(user_id, []).append((rating, similarity_score))"
   ]
  },
  {
   "cell_type": "code",
   "execution_count": 14,
   "id": "ed0ad151",
   "metadata": {
    "execution": {
     "iopub.execute_input": "2024-01-29T00:53:41.486025Z",
     "iopub.status.busy": "2024-01-29T00:53:41.485570Z",
     "iopub.status.idle": "2024-01-29T00:53:41.492069Z",
     "shell.execute_reply": "2024-01-29T00:53:41.490981Z"
    },
    "papermill": {
     "duration": 0.020114,
     "end_time": "2024-01-29T00:53:41.494574",
     "exception": false,
     "start_time": "2024-01-29T00:53:41.474460",
     "status": "completed"
    },
    "tags": []
   },
   "outputs": [],
   "source": [
    "predicted_ratings = {}\n",
    "# Compute weighted average of ratings from similar items\n",
    "for user_id, ratings in aggregated_ratings.items():\n",
    "    weighted_sum = sum(rating * similarity for rating, similarity in ratings)\n",
    "    sum_of_weights = sum(similarity for _, similarity in ratings)\n",
    "    predicted_ratings[user_id] = weighted_sum / sum_of_weights if sum_of_weights != 0 else 0"
   ]
  },
  {
   "cell_type": "code",
   "execution_count": 15,
   "id": "1d4cb7ce",
   "metadata": {
    "execution": {
     "iopub.execute_input": "2024-01-29T00:53:41.515147Z",
     "iopub.status.busy": "2024-01-29T00:53:41.514699Z",
     "iopub.status.idle": "2024-01-29T00:53:41.523356Z",
     "shell.execute_reply": "2024-01-29T00:53:41.522094Z"
    },
    "papermill": {
     "duration": 0.022079,
     "end_time": "2024-01-29T00:53:41.525907",
     "exception": false,
     "start_time": "2024-01-29T00:53:41.503828",
     "status": "completed"
    },
    "tags": []
   },
   "outputs": [
    {
     "data": {
      "text/plain": [
       "['A1ELHG0LNQT7P8', 'AHO0EM3FIG4JN', 'A2C0Q7ALQ22IRK']"
      ]
     },
     "execution_count": 15,
     "metadata": {},
     "output_type": "execute_result"
    }
   ],
   "source": [
    "N=3\n",
    "recommended_users = sorted(predicted_ratings, key=predicted_ratings.get, reverse=True)[:N]\n",
    "recommended_users"
   ]
  },
  {
   "cell_type": "markdown",
   "id": "04defb64",
   "metadata": {
    "papermill": {
     "duration": 0.009336,
     "end_time": "2024-01-29T00:53:41.544840",
     "exception": false,
     "start_time": "2024-01-29T00:53:41.535504",
     "status": "completed"
    },
    "tags": []
   },
   "source": [
    "## method2"
   ]
  },
  {
   "cell_type": "code",
   "execution_count": 16,
   "id": "e7f11d97",
   "metadata": {
    "execution": {
     "iopub.execute_input": "2024-01-29T00:53:41.565657Z",
     "iopub.status.busy": "2024-01-29T00:53:41.565237Z",
     "iopub.status.idle": "2024-01-29T00:53:41.571215Z",
     "shell.execute_reply": "2024-01-29T00:53:41.570018Z"
    },
    "papermill": {
     "duration": 0.019215,
     "end_time": "2024-01-29T00:53:41.573415",
     "exception": false,
     "start_time": "2024-01-29T00:53:41.554200",
     "status": "completed"
    },
    "tags": []
   },
   "outputs": [],
   "source": [
    "user_id = np.random.choice(user_item_matrix.index)\n",
    "item_id = user_item_matrix.columns[np.argmax(user_item_matrix.loc[user_id])]"
   ]
  },
  {
   "cell_type": "code",
   "execution_count": 17,
   "id": "f8e90d47",
   "metadata": {
    "execution": {
     "iopub.execute_input": "2024-01-29T00:53:41.594574Z",
     "iopub.status.busy": "2024-01-29T00:53:41.594139Z",
     "iopub.status.idle": "2024-01-29T00:53:42.259507Z",
     "shell.execute_reply": "2024-01-29T00:53:42.258573Z"
    },
    "papermill": {
     "duration": 0.682488,
     "end_time": "2024-01-29T00:53:42.265377",
     "exception": false,
     "start_time": "2024-01-29T00:53:41.582889",
     "status": "completed"
    },
    "tags": []
   },
   "outputs": [
    {
     "name": "stderr",
     "output_type": "stream",
     "text": [
      "/opt/conda/lib/python3.10/site-packages/sklearn/base.py:439: UserWarning: X does not have valid feature names, but NearestNeighbors was fitted with feature names\n",
      "  warnings.warn(\n"
     ]
    }
   ],
   "source": [
    "item_neighbor_finder = NearestNeighbors(metric='cosine', algorithm='brute', n_neighbors=10, n_jobs=-1).fit(user_item_matrix.T)\n",
    "item_vector = user_item_matrix[item_id].values.reshape(1, -1)\n",
    "\n",
    "_, indices = neighbor_finder.kneighbors(item_vector, n_neighbors=5)\n",
    "indices = indices.squeeze().tolist()"
   ]
  },
  {
   "cell_type": "code",
   "execution_count": 18,
   "id": "9462c43f",
   "metadata": {
    "execution": {
     "iopub.execute_input": "2024-01-29T00:53:42.310606Z",
     "iopub.status.busy": "2024-01-29T00:53:42.309793Z",
     "iopub.status.idle": "2024-01-29T00:53:42.321265Z",
     "shell.execute_reply": "2024-01-29T00:53:42.319870Z"
    },
    "papermill": {
     "duration": 0.037978,
     "end_time": "2024-01-29T00:53:42.325241",
     "exception": false,
     "start_time": "2024-01-29T00:53:42.287263",
     "status": "completed"
    },
    "tags": []
   },
   "outputs": [
    {
     "data": {
      "text/plain": [
       "array(['B0001ZA4CS', 'B005C1C02S', 'B005C2NBFW', 'B005C3ZYWE',\n",
       "       'B005C2NAKS'], dtype=object)"
      ]
     },
     "execution_count": 18,
     "metadata": {},
     "output_type": "execute_result"
    }
   ],
   "source": [
    "user_item_matrix.columns[indices].values"
   ]
  }
 ],
 "metadata": {
  "kaggle": {
   "accelerator": "none",
   "dataSources": [
    {
     "datasetId": 33019,
     "sourceId": 43260,
     "sourceType": "datasetVersion"
    }
   ],
   "dockerImageVersionId": 30635,
   "isGpuEnabled": false,
   "isInternetEnabled": true,
   "language": "python",
   "sourceType": "notebook"
  },
  "kernelspec": {
   "display_name": "Python 3",
   "language": "python",
   "name": "python3"
  },
  "language_info": {
   "codemirror_mode": {
    "name": "ipython",
    "version": 3
   },
   "file_extension": ".py",
   "mimetype": "text/x-python",
   "name": "python",
   "nbconvert_exporter": "python",
   "pygments_lexer": "ipython3",
   "version": "3.10.12"
  },
  "papermill": {
   "default_parameters": {},
   "duration": 22.813096,
   "end_time": "2024-01-29T00:53:43.372800",
   "environment_variables": {},
   "exception": null,
   "input_path": "__notebook__.ipynb",
   "output_path": "__notebook__.ipynb",
   "parameters": {},
   "start_time": "2024-01-29T00:53:20.559704",
   "version": "2.4.0"
  }
 },
 "nbformat": 4,
 "nbformat_minor": 5
}

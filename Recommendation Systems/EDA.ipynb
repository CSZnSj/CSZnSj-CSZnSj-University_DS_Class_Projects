{
 "cells": [
  {
   "cell_type": "code",
   "execution_count": 1,
   "id": "e636b3e4",
   "metadata": {
    "_cell_guid": "b1076dfc-b9ad-4769-8c92-a6c4dae69d19",
    "_uuid": "8f2839f25d086af736a60e9eeb907d3b93b6e0e5",
    "execution": {
     "iopub.execute_input": "2024-01-29T01:17:42.384291Z",
     "iopub.status.busy": "2024-01-29T01:17:42.383777Z",
     "iopub.status.idle": "2024-01-29T01:17:42.888170Z",
     "shell.execute_reply": "2024-01-29T01:17:42.885659Z"
    },
    "papermill": {
     "duration": 0.517207,
     "end_time": "2024-01-29T01:17:42.890866",
     "exception": false,
     "start_time": "2024-01-29T01:17:42.373659",
     "status": "completed"
    },
    "tags": []
   },
   "outputs": [
    {
     "name": "stdout",
     "output_type": "stream",
     "text": [
      "/kaggle/input/amazon-ratings/ratings_Beauty.csv\n"
     ]
    }
   ],
   "source": [
    "# This Python 3 environment comes with many helpful analytics libraries installed\n",
    "# It is defined by the kaggle/python Docker image: https://github.com/kaggle/docker-python\n",
    "# For example, here's several helpful packages to load\n",
    "\n",
    "import numpy as np # linear algebra\n",
    "import pandas as pd # data processing, CSV file I/O (e.g. pd.read_csv)\n",
    "\n",
    "# Input data files are available in the read-only \"../input/\" directory\n",
    "# For example, running this (by clicking run or pressing Shift+Enter) will list all files under the input directory\n",
    "\n",
    "import os\n",
    "for dirname, _, filenames in os.walk('/kaggle/input'):\n",
    "    for filename in filenames:\n",
    "        print(os.path.join(dirname, filename))\n",
    "\n",
    "# You can write up to 20GB to the current directory (/kaggle/working/) that gets preserved as output when you create a version using \"Save & Run All\" \n",
    "# You can also write temporary files to /kaggle/temp/, but they won't be saved outside of the current session"
   ]
  },
  {
   "cell_type": "code",
   "execution_count": 2,
   "id": "59bc4303",
   "metadata": {
    "execution": {
     "iopub.execute_input": "2024-01-29T01:17:42.907537Z",
     "iopub.status.busy": "2024-01-29T01:17:42.906141Z",
     "iopub.status.idle": "2024-01-29T01:17:46.512474Z",
     "shell.execute_reply": "2024-01-29T01:17:46.511191Z"
    },
    "papermill": {
     "duration": 3.616962,
     "end_time": "2024-01-29T01:17:46.514939",
     "exception": false,
     "start_time": "2024-01-29T01:17:42.897977",
     "status": "completed"
    },
    "tags": []
   },
   "outputs": [
    {
     "data": {
      "text/html": [
       "<div>\n",
       "<style scoped>\n",
       "    .dataframe tbody tr th:only-of-type {\n",
       "        vertical-align: middle;\n",
       "    }\n",
       "\n",
       "    .dataframe tbody tr th {\n",
       "        vertical-align: top;\n",
       "    }\n",
       "\n",
       "    .dataframe thead th {\n",
       "        text-align: right;\n",
       "    }\n",
       "</style>\n",
       "<table border=\"1\" class=\"dataframe\">\n",
       "  <thead>\n",
       "    <tr style=\"text-align: right;\">\n",
       "      <th></th>\n",
       "      <th>UserId</th>\n",
       "      <th>ProductId</th>\n",
       "      <th>Rating</th>\n",
       "      <th>Timestamp</th>\n",
       "    </tr>\n",
       "  </thead>\n",
       "  <tbody>\n",
       "    <tr>\n",
       "      <th>0</th>\n",
       "      <td>A39HTATAQ9V7YF</td>\n",
       "      <td>0205616461</td>\n",
       "      <td>5.0</td>\n",
       "      <td>1369699200</td>\n",
       "    </tr>\n",
       "    <tr>\n",
       "      <th>1</th>\n",
       "      <td>A3JM6GV9MNOF9X</td>\n",
       "      <td>0558925278</td>\n",
       "      <td>3.0</td>\n",
       "      <td>1355443200</td>\n",
       "    </tr>\n",
       "    <tr>\n",
       "      <th>2</th>\n",
       "      <td>A1Z513UWSAAO0F</td>\n",
       "      <td>0558925278</td>\n",
       "      <td>5.0</td>\n",
       "      <td>1404691200</td>\n",
       "    </tr>\n",
       "    <tr>\n",
       "      <th>3</th>\n",
       "      <td>A1WMRR494NWEWV</td>\n",
       "      <td>0733001998</td>\n",
       "      <td>4.0</td>\n",
       "      <td>1382572800</td>\n",
       "    </tr>\n",
       "    <tr>\n",
       "      <th>4</th>\n",
       "      <td>A3IAAVS479H7M7</td>\n",
       "      <td>0737104473</td>\n",
       "      <td>1.0</td>\n",
       "      <td>1274227200</td>\n",
       "    </tr>\n",
       "  </tbody>\n",
       "</table>\n",
       "</div>"
      ],
      "text/plain": [
       "           UserId   ProductId  Rating   Timestamp\n",
       "0  A39HTATAQ9V7YF  0205616461     5.0  1369699200\n",
       "1  A3JM6GV9MNOF9X  0558925278     3.0  1355443200\n",
       "2  A1Z513UWSAAO0F  0558925278     5.0  1404691200\n",
       "3  A1WMRR494NWEWV  0733001998     4.0  1382572800\n",
       "4  A3IAAVS479H7M7  0737104473     1.0  1274227200"
      ]
     },
     "execution_count": 2,
     "metadata": {},
     "output_type": "execute_result"
    }
   ],
   "source": [
    "data = pd.read_csv(\"/kaggle/input/amazon-ratings/ratings_Beauty.csv\")\n",
    "data.head()"
   ]
  },
  {
   "cell_type": "markdown",
   "id": "c5e1eaee",
   "metadata": {
    "papermill": {
     "duration": 0.006601,
     "end_time": "2024-01-29T01:17:46.528595",
     "exception": false,
     "start_time": "2024-01-29T01:17:46.521994",
     "status": "completed"
    },
    "tags": []
   },
   "source": [
    "# EDA"
   ]
  },
  {
   "cell_type": "code",
   "execution_count": 3,
   "id": "0441baf8",
   "metadata": {
    "execution": {
     "iopub.execute_input": "2024-01-29T01:17:46.544428Z",
     "iopub.status.busy": "2024-01-29T01:17:46.543908Z",
     "iopub.status.idle": "2024-01-29T01:18:02.809907Z",
     "shell.execute_reply": "2024-01-29T01:18:02.808109Z"
    },
    "papermill": {
     "duration": 16.278246,
     "end_time": "2024-01-29T01:18:02.813707",
     "exception": false,
     "start_time": "2024-01-29T01:17:46.535461",
     "status": "completed"
    },
    "tags": []
   },
   "outputs": [],
   "source": [
    "!pip install -q squarify"
   ]
  },
  {
   "cell_type": "code",
   "execution_count": 4,
   "id": "9c8b3091",
   "metadata": {
    "execution": {
     "iopub.execute_input": "2024-01-29T01:18:02.831820Z",
     "iopub.status.busy": "2024-01-29T01:18:02.830805Z",
     "iopub.status.idle": "2024-01-29T01:18:04.312056Z",
     "shell.execute_reply": "2024-01-29T01:18:04.310721Z"
    },
    "papermill": {
     "duration": 1.493836,
     "end_time": "2024-01-29T01:18:04.315302",
     "exception": false,
     "start_time": "2024-01-29T01:18:02.821466",
     "status": "completed"
    },
    "tags": []
   },
   "outputs": [],
   "source": [
    "import matplotlib.pyplot as plt\n",
    "import seaborn as sns\n",
    "\n",
    "import squarify"
   ]
  },
  {
   "cell_type": "code",
   "execution_count": 5,
   "id": "00ab7ab8",
   "metadata": {
    "execution": {
     "iopub.execute_input": "2024-01-29T01:18:04.331945Z",
     "iopub.status.busy": "2024-01-29T01:18:04.331435Z",
     "iopub.status.idle": "2024-01-29T01:18:04.494182Z",
     "shell.execute_reply": "2024-01-29T01:18:04.491977Z"
    },
    "papermill": {
     "duration": 0.17456,
     "end_time": "2024-01-29T01:18:04.497096",
     "exception": false,
     "start_time": "2024-01-29T01:18:04.322536",
     "status": "completed"
    },
    "tags": []
   },
   "outputs": [
    {
     "name": "stdout",
     "output_type": "stream",
     "text": [
      "<class 'pandas.core.frame.DataFrame'>\n",
      "RangeIndex: 2023070 entries, 0 to 2023069\n",
      "Data columns (total 4 columns):\n",
      " #   Column     Dtype  \n",
      "---  ------     -----  \n",
      " 0   UserId     object \n",
      " 1   ProductId  object \n",
      " 2   Rating     float64\n",
      " 3   Timestamp  int64  \n",
      "dtypes: float64(1), int64(1), object(2)\n",
      "memory usage: 61.7+ MB\n"
     ]
    }
   ],
   "source": [
    "data.info()"
   ]
  },
  {
   "cell_type": "code",
   "execution_count": 6,
   "id": "3f7227d8",
   "metadata": {
    "execution": {
     "iopub.execute_input": "2024-01-29T01:18:04.514151Z",
     "iopub.status.busy": "2024-01-29T01:18:04.513664Z",
     "iopub.status.idle": "2024-01-29T01:18:05.007612Z",
     "shell.execute_reply": "2024-01-29T01:18:05.006613Z"
    },
    "papermill": {
     "duration": 0.506045,
     "end_time": "2024-01-29T01:18:05.010640",
     "exception": false,
     "start_time": "2024-01-29T01:18:04.504595",
     "status": "completed"
    },
    "tags": []
   },
   "outputs": [
    {
     "data": {
      "text/plain": [
       "UserId       0\n",
       "ProductId    0\n",
       "Rating       0\n",
       "Timestamp    0\n",
       "dtype: int64"
      ]
     },
     "execution_count": 6,
     "metadata": {},
     "output_type": "execute_result"
    }
   ],
   "source": [
    "data.isnull().sum()"
   ]
  },
  {
   "cell_type": "code",
   "execution_count": 7,
   "id": "724a46e9",
   "metadata": {
    "execution": {
     "iopub.execute_input": "2024-01-29T01:18:05.028139Z",
     "iopub.status.busy": "2024-01-29T01:18:05.027598Z",
     "iopub.status.idle": "2024-01-29T01:18:06.116540Z",
     "shell.execute_reply": "2024-01-29T01:18:06.114975Z"
    },
    "papermill": {
     "duration": 1.102646,
     "end_time": "2024-01-29T01:18:06.120841",
     "exception": false,
     "start_time": "2024-01-29T01:18:05.018195",
     "status": "completed"
    },
    "tags": []
   },
   "outputs": [],
   "source": [
    "from sklearn.model_selection import train_test_split\n",
    "train_df, test_df = train_test_split(data, train_size=0.8)"
   ]
  },
  {
   "cell_type": "code",
   "execution_count": 8,
   "id": "eba84254",
   "metadata": {
    "execution": {
     "iopub.execute_input": "2024-01-29T01:18:06.146131Z",
     "iopub.status.busy": "2024-01-29T01:18:06.145397Z",
     "iopub.status.idle": "2024-01-29T01:18:06.155875Z",
     "shell.execute_reply": "2024-01-29T01:18:06.154285Z"
    },
    "papermill": {
     "duration": 0.026609,
     "end_time": "2024-01-29T01:18:06.158585",
     "exception": false,
     "start_time": "2024-01-29T01:18:06.131976",
     "status": "completed"
    },
    "tags": []
   },
   "outputs": [
    {
     "data": {
      "text/plain": [
       "((1618456, 4), (404614, 4))"
      ]
     },
     "execution_count": 8,
     "metadata": {},
     "output_type": "execute_result"
    }
   ],
   "source": [
    "train_df.shape, test_df.shape"
   ]
  },
  {
   "cell_type": "code",
   "execution_count": 9,
   "id": "a5ece71d",
   "metadata": {
    "execution": {
     "iopub.execute_input": "2024-01-29T01:18:06.177102Z",
     "iopub.status.busy": "2024-01-29T01:18:06.176188Z",
     "iopub.status.idle": "2024-01-29T01:18:07.861196Z",
     "shell.execute_reply": "2024-01-29T01:18:07.859693Z"
    },
    "papermill": {
     "duration": 1.697458,
     "end_time": "2024-01-29T01:18:07.863997",
     "exception": false,
     "start_time": "2024-01-29T01:18:06.166539",
     "status": "completed"
    },
    "tags": []
   },
   "outputs": [
    {
     "data": {
      "text/plain": [
       "(1025135, 226501, 5)"
      ]
     },
     "execution_count": 9,
     "metadata": {},
     "output_type": "execute_result"
    }
   ],
   "source": [
    "train_df[\"UserId\"].nunique(), train_df[\"ProductId\"].nunique(), train_df[\"Rating\"].nunique()"
   ]
  },
  {
   "cell_type": "code",
   "execution_count": 10,
   "id": "4365e9a8",
   "metadata": {
    "execution": {
     "iopub.execute_input": "2024-01-29T01:18:07.883329Z",
     "iopub.status.busy": "2024-01-29T01:18:07.882076Z",
     "iopub.status.idle": "2024-01-29T01:18:10.762415Z",
     "shell.execute_reply": "2024-01-29T01:18:10.761455Z"
    },
    "papermill": {
     "duration": 2.8923,
     "end_time": "2024-01-29T01:18:10.764832",
     "exception": false,
     "start_time": "2024-01-29T01:18:07.872532",
     "status": "completed"
    },
    "tags": []
   },
   "outputs": [
    {
     "data": {
      "text/plain": [
       "UserId\n",
       "A1QQVWP1RNQJR4      1\n",
       "AK92XLLM0QX1V       1\n",
       "AVS085IFKGI6U       1\n",
       "A1ID7DPOJC8UG4      1\n",
       "A2CLOZ2YNGHTYT      1\n",
       "                 ... \n",
       "A2V5R832QCSOMX    219\n",
       "A3LJLRIZL38GG3    225\n",
       "A3M174IC0VXOS2    258\n",
       "A281NPSIMI1C2R    267\n",
       "A3KEZLJ59C1JVH    319\n",
       "Name: count, Length: 1025135, dtype: int64"
      ]
     },
     "execution_count": 10,
     "metadata": {},
     "output_type": "execute_result"
    }
   ],
   "source": [
    "train_df[\"UserId\"].value_counts().sort_values()"
   ]
  },
  {
   "cell_type": "code",
   "execution_count": 11,
   "id": "709d5074",
   "metadata": {
    "execution": {
     "iopub.execute_input": "2024-01-29T01:18:10.783872Z",
     "iopub.status.busy": "2024-01-29T01:18:10.782461Z",
     "iopub.status.idle": "2024-01-29T01:18:11.577338Z",
     "shell.execute_reply": "2024-01-29T01:18:11.576011Z"
    },
    "papermill": {
     "duration": 0.807493,
     "end_time": "2024-01-29T01:18:11.580273",
     "exception": false,
     "start_time": "2024-01-29T01:18:10.772780",
     "status": "completed"
    },
    "tags": []
   },
   "outputs": [
    {
     "data": {
      "text/plain": [
       "ProductId\n",
       "B001MA0QY2    6053\n",
       "B0009V1YR8    2299\n",
       "B0043OYFKU    1979\n",
       "B0000YUXI0    1703\n",
       "B003V265QW    1698\n",
       "              ... \n",
       "B00021D5PE       1\n",
       "B00C8IAJNA       1\n",
       "B00F48FYC2       1\n",
       "B004XZEV3A       1\n",
       "B00CICNFSM       1\n",
       "Name: count, Length: 226501, dtype: int64"
      ]
     },
     "execution_count": 11,
     "metadata": {},
     "output_type": "execute_result"
    }
   ],
   "source": [
    "train_df[\"ProductId\"].value_counts().sort_values(ascending=False)"
   ]
  },
  {
   "cell_type": "code",
   "execution_count": 12,
   "id": "10e83cbd",
   "metadata": {
    "execution": {
     "iopub.execute_input": "2024-01-29T01:18:11.598632Z",
     "iopub.status.busy": "2024-01-29T01:18:11.598169Z",
     "iopub.status.idle": "2024-01-29T01:18:12.113309Z",
     "shell.execute_reply": "2024-01-29T01:18:12.112066Z"
    },
    "papermill": {
     "duration": 0.527809,
     "end_time": "2024-01-29T01:18:12.116087",
     "exception": false,
     "start_time": "2024-01-29T01:18:11.588278",
     "status": "completed"
    },
    "tags": []
   },
   "outputs": [
    {
     "data": {
      "image/png": "[encoded data removed]",
      "text/plain": [
       "<Figure size 640x480 with 1 Axes>"
      ]
     },
     "metadata": {},
     "output_type": "display_data"
    }
   ],
   "source": [
    "sns.countplot(x=train_df[\"Rating\"]);"
   ]
  },
  {
   "cell_type": "code",
   "execution_count": 13,
   "id": "50e31270",
   "metadata": {
    "execution": {
     "iopub.execute_input": "2024-01-29T01:18:12.135652Z",
     "iopub.status.busy": "2024-01-29T01:18:12.135216Z",
     "iopub.status.idle": "2024-01-29T01:18:13.592979Z",
     "shell.execute_reply": "2024-01-29T01:18:13.591353Z"
    },
    "papermill": {
     "duration": 1.471056,
     "end_time": "2024-01-29T01:18:13.595729",
     "exception": false,
     "start_time": "2024-01-29T01:18:12.124673",
     "status": "completed"
    },
    "tags": []
   },
   "outputs": [
    {
     "data": {
      "text/html": [
       "<div>\n",
       "<style scoped>\n",
       "    .dataframe tbody tr th:only-of-type {\n",
       "        vertical-align: middle;\n",
       "    }\n",
       "\n",
       "    .dataframe tbody tr th {\n",
       "        vertical-align: top;\n",
       "    }\n",
       "\n",
       "    .dataframe thead th {\n",
       "        text-align: right;\n",
       "    }\n",
       "</style>\n",
       "<table border=\"1\" class=\"dataframe\">\n",
       "  <thead>\n",
       "    <tr style=\"text-align: right;\">\n",
       "      <th></th>\n",
       "      <th>Average_Rating</th>\n",
       "      <th>Number_of_Ratings</th>\n",
       "    </tr>\n",
       "    <tr>\n",
       "      <th>ProductId</th>\n",
       "      <th></th>\n",
       "      <th></th>\n",
       "    </tr>\n",
       "  </thead>\n",
       "  <tbody>\n",
       "    <tr>\n",
       "      <th>0205616461</th>\n",
       "      <td>5.0</td>\n",
       "      <td>1</td>\n",
       "    </tr>\n",
       "    <tr>\n",
       "      <th>B00551HYQC</th>\n",
       "      <td>5.0</td>\n",
       "      <td>1</td>\n",
       "    </tr>\n",
       "    <tr>\n",
       "      <th>B0054ZSIXC</th>\n",
       "      <td>5.0</td>\n",
       "      <td>2</td>\n",
       "    </tr>\n",
       "    <tr>\n",
       "      <th>B00550UX52</th>\n",
       "      <td>5.0</td>\n",
       "      <td>2</td>\n",
       "    </tr>\n",
       "    <tr>\n",
       "      <th>B00550YQP0</th>\n",
       "      <td>5.0</td>\n",
       "      <td>3</td>\n",
       "    </tr>\n",
       "    <tr>\n",
       "      <th>...</th>\n",
       "      <td>...</td>\n",
       "      <td>...</td>\n",
       "    </tr>\n",
       "    <tr>\n",
       "      <th>B00586PNN0</th>\n",
       "      <td>1.0</td>\n",
       "      <td>1</td>\n",
       "    </tr>\n",
       "    <tr>\n",
       "      <th>B00585I1VW</th>\n",
       "      <td>1.0</td>\n",
       "      <td>1</td>\n",
       "    </tr>\n",
       "    <tr>\n",
       "      <th>B005854H5G</th>\n",
       "      <td>1.0</td>\n",
       "      <td>1</td>\n",
       "    </tr>\n",
       "    <tr>\n",
       "      <th>B00583Q2MY</th>\n",
       "      <td>1.0</td>\n",
       "      <td>1</td>\n",
       "    </tr>\n",
       "    <tr>\n",
       "      <th>B00740KNT2</th>\n",
       "      <td>1.0</td>\n",
       "      <td>1</td>\n",
       "    </tr>\n",
       "  </tbody>\n",
       "</table>\n",
       "<p>249274 rows × 2 columns</p>\n",
       "</div>"
      ],
      "text/plain": [
       "            Average_Rating  Number_of_Ratings\n",
       "ProductId                                    \n",
       "0205616461             5.0                  1\n",
       "B00551HYQC             5.0                  1\n",
       "B0054ZSIXC             5.0                  2\n",
       "B00550UX52             5.0                  2\n",
       "B00550YQP0             5.0                  3\n",
       "...                    ...                ...\n",
       "B00586PNN0             1.0                  1\n",
       "B00585I1VW             1.0                  1\n",
       "B005854H5G             1.0                  1\n",
       "B00583Q2MY             1.0                  1\n",
       "B00740KNT2             1.0                  1\n",
       "\n",
       "[249274 rows x 2 columns]"
      ]
     },
     "execution_count": 13,
     "metadata": {},
     "output_type": "execute_result"
    }
   ],
   "source": [
    "average_rating = data.groupby('ProductId')['Rating'].mean().sort_values(ascending=False)\n",
    "\n",
    "num_ratings = data.groupby('ProductId')['Rating'].count().sort_values(ascending=False)\n",
    "\n",
    "rating = pd.merge(average_rating, num_ratings, on='ProductId')\n",
    "rating.columns = ['Average_Rating', 'Number_of_Ratings']\n",
    "\n",
    "rating"
   ]
  },
  {
   "cell_type": "code",
   "execution_count": 14,
   "id": "848d8bae",
   "metadata": {
    "execution": {
     "iopub.execute_input": "2024-01-29T01:18:13.615960Z",
     "iopub.status.busy": "2024-01-29T01:18:13.615470Z",
     "iopub.status.idle": "2024-01-29T01:18:15.111636Z",
     "shell.execute_reply": "2024-01-29T01:18:15.110162Z"
    },
    "papermill": {
     "duration": 1.509456,
     "end_time": "2024-01-29T01:18:15.114243",
     "exception": false,
     "start_time": "2024-01-29T01:18:13.604787",
     "status": "completed"
    },
    "tags": []
   },
   "outputs": [
    {
     "data": {
      "text/plain": [
       "<Axes: xlabel='Average_Rating', ylabel='Number_of_Ratings'>"
      ]
     },
     "execution_count": 14,
     "metadata": {},
     "output_type": "execute_result"
    },
    {
     "data": {
      "image/png": "[encoded data removed]",
      "text/plain": [
       "<Figure size 640x480 with 1 Axes>"
      ]
     },
     "metadata": {},
     "output_type": "display_data"
    }
   ],
   "source": [
    "sns.scatterplot(data=rating, x=\"Average_Rating\", y=\"Number_of_Ratings\")"
   ]
  },
  {
   "cell_type": "code",
   "execution_count": 15,
   "id": "3066dee9",
   "metadata": {
    "execution": {
     "iopub.execute_input": "2024-01-29T01:18:15.135289Z",
     "iopub.status.busy": "2024-01-29T01:18:15.134827Z",
     "iopub.status.idle": "2024-01-29T01:18:15.778948Z",
     "shell.execute_reply": "2024-01-29T01:18:15.777219Z"
    },
    "papermill": {
     "duration": 0.658161,
     "end_time": "2024-01-29T01:18:15.781962",
     "exception": false,
     "start_time": "2024-01-29T01:18:15.123801",
     "status": "completed"
    },
    "tags": []
   },
   "outputs": [],
   "source": [
    "train_df['Datetime'] = pd.to_datetime(train_df['Timestamp'], unit='s')\n",
    "train_df['Year'] = train_df['Datetime'].dt.year\n",
    "train_df['Day'] = train_df['Datetime'].dt.day"
   ]
  },
  {
   "cell_type": "code",
   "execution_count": 16,
   "id": "9ae49196",
   "metadata": {
    "execution": {
     "iopub.execute_input": "2024-01-29T01:18:15.804842Z",
     "iopub.status.busy": "2024-01-29T01:18:15.804239Z",
     "iopub.status.idle": "2024-01-29T01:18:15.999041Z",
     "shell.execute_reply": "2024-01-29T01:18:15.997330Z"
    },
    "papermill": {
     "duration": 0.213155,
     "end_time": "2024-01-29T01:18:16.004844",
     "exception": false,
     "start_time": "2024-01-29T01:18:15.791689",
     "status": "completed"
    },
    "tags": []
   },
   "outputs": [
    {
     "data": {
      "image/png": "[encoded data removed]",
      "text/plain": [
       "<Figure size 640x480 with 1 Axes>"
      ]
     },
     "metadata": {},
     "output_type": "display_data"
    }
   ],
   "source": [
    "temp = train_df['Year'].value_counts()\n",
    "squarify.plot(sizes = temp.values, label = temp.index, pad = 1,\n",
    "                           color = sns.color_palette(\"flare\",len(temp))) \n",
    "plt.axis(\"off\");"
   ]
  },
  {
   "cell_type": "code",
   "execution_count": 17,
   "id": "c73d08fe",
   "metadata": {
    "execution": {
     "iopub.execute_input": "2024-01-29T01:18:16.047595Z",
     "iopub.status.busy": "2024-01-29T01:18:16.046255Z",
     "iopub.status.idle": "2024-01-29T01:18:16.298305Z",
     "shell.execute_reply": "2024-01-29T01:18:16.296721Z"
    },
    "papermill": {
     "duration": 0.277814,
     "end_time": "2024-01-29T01:18:16.304672",
     "exception": false,
     "start_time": "2024-01-29T01:18:16.026858",
     "status": "completed"
    },
    "tags": []
   },
   "outputs": [
    {
     "data": {
      "image/png": "[encoded data removed]",
      "text/plain": [
       "<Figure size 640x480 with 1 Axes>"
      ]
     },
     "metadata": {},
     "output_type": "display_data"
    }
   ],
   "source": [
    "temp = train_df['Day'].value_counts()\n",
    "squarify.plot(sizes = temp.values, label = temp.index, pad = 1,\n",
    "                           color = sns.color_palette(\"flare\",len(temp))) \n",
    "plt.axis(\"off\");"
   ]
  },
  {
   "cell_type": "code",
   "execution_count": null,
   "id": "9723eccf",
   "metadata": {
    "papermill": {
     "duration": 0.012033,
     "end_time": "2024-01-29T01:18:16.338858",
     "exception": false,
     "start_time": "2024-01-29T01:18:16.326825",
     "status": "completed"
    },
    "tags": []
   },
   "outputs": [],
   "source": []
  }
 ],
 "metadata": {
  "kaggle": {
   "accelerator": "none",
   "dataSources": [
    {
     "datasetId": 33019,
     "sourceId": 43260,
     "sourceType": "datasetVersion"
    }
   ],
   "dockerImageVersionId": 30635,
   "isGpuEnabled": false,
   "isInternetEnabled": true,
   "language": "python",
   "sourceType": "notebook"
  },
  "kernelspec": {
   "display_name": "Python 3",
   "language": "python",
   "name": "python3"
  },
  "language_info": {
   "codemirror_mode": {
    "name": "ipython",
    "version": 3
   },
   "file_extension": ".py",
   "mimetype": "text/x-python",
   "name": "python",
   "nbconvert_exporter": "python",
   "pygments_lexer": "ipython3",
   "version": "3.10.12"
  },
  "papermill": {
   "default_parameters": {},
   "duration": 38.644803,
   "end_time": "2024-01-29T01:18:17.273975",
   "environment_variables": {},
   "exception": null,
   "input_path": "__notebook__.ipynb",
   "output_path": "__notebook__.ipynb",
   "parameters": {},
   "start_time": "2024-01-29T01:17:38.629172",
   "version": "2.4.0"
  }
 },
 "nbformat": 4,
 "nbformat_minor": 5
}
